{
 "cells": [
  {
   "cell_type": "markdown",
   "metadata": {
    "colab_type": "text",
    "id": "0paxbpsJQBG8"
   },
   "source": [
    "# Assignment 2\n",
    "\n",
    "**Deadline**:  December 8, 23.59.\n",
    "\n",
    "Your notebook should not give errors when executed with `Run All`. Please submit your answers via [Canvas](https://canvas.uva.nl/courses/12430/assignments/78394).\n",
    "\n",
    "|**Name**|**Student ID**|**Email**|\n",
    "|:-------|:-------------|:--------|\n",
    "|Jason Spano|*******|******|\n",
    "\n",
    "\n",
    "****Hand in the following:****\n",
    "* Your notebook. N.B. **click on `Kernel`-> `Restart & Run All`** before submitting, see notes.\n",
    "* A (printed) pdf version of your notebook.\n",
    "\n",
    "****NOTES****:\n",
    "* This is an individual assignment. Teamwork is **not** permitted, including during lectures.\n",
    "* The assignment is a partial stand-in for a final examination, so the usual rules regarding plagiarism and fraud apply, with all attendant consequences. Code found on the internet or elsewhere is not acceptable as a solution.\n",
    "* Efficient code is required for full marks.\n",
    "* Make sure that any function you write has a docstring, and comments where appropriate.\n",
    "* Before submitting your work, **click on `Kernel`-> `Restart & Run All`** and verify that your notebook produces the desired results and does not error.\n",
    "* Some questions require you to write code to obtain a numerical result (e.g., an option price). In that case, don't just give the function, but also the result of calling it with the given parameter values (i.e., the numerial value that it returns). If your function uses random numbers, then set the seed to 0 before calling it. This makes it much easier to grade the assignments (at least as long as the answer is correct).\n",
    "\n",
    "\n",
    "**Declaration of Originality**:\n",
    "\n",
    "By submitting these answers, I declare that\n",
    "1. I have read and understood the notes above.\n",
    "2. These solutions are solely my own work.\n",
    "3. I have not made these solutions available to any other student."
   ]
  },
  {
   "cell_type": "markdown",
   "metadata": {
    "colab_type": "text",
    "id": "EGURrplgQBG_"
   },
   "source": [
    "**Question A**:\n",
    "Consider an $N$-period model with two assets: a riskless bond with value $B_t=e^{rt}$, and a stock that evolves according to a binomial tree, such that $S_t=S_{t-\\delta t}u$ or $S_t=S_{t-\\delta t}d$ in the good and bad states of the world, respectively. Here $u=1/d=\\exp(\\sigma\\sqrt{\\delta t})$ and $\\delta t= T/N$ as usual. We would like to price a *chooser* option, which has the property that, after $M<N$ periods, the holder can choose whether the option is a European call or put option, both maturing after $N$ periods, and with the same strike price $K$ (See Hull, section 25.7 (ed. 8) or 26.8 (ed. 9/10)). Denoting their prices after $i$ periods as $C_{i}$ and $P_{i}$, respectively, the payoff of the chooser option after $M$ periods is $V_{M}=\\max \\{C_{M},P_{M}\\}\\,$. Our starting point is the function `calltree` (or `calltree_numpy`) from Week 4. **For each of the following subquestions, your answer should include the function itself, as well as the result of calling it with the following parameter values**: $S_0 = 9$, $K = 11$, $T = 3/12$, $r = 0.025$, $\\sigma = 0.3$, $q = 0.01$, $N = 500$, $M=200$.\n",
    "\n",
    "   1. We want to allow for a dividend yield, $q$. Construct a calltree pricer (vectorised) which accepts an additional input argument `q`. That is, the function becomes `calltree_numpy(S0, K, T, r, sigma, q, N)`. In the function change the risk-neutral probability to $(e^{(r-q)\\delta t}-d)/(u-d)$.\n",
    "\n",
    "   * Building on your function from the previous question write a function `chooser(S0, K, T, r, sigma, q, N, M)` that prices a European chooser option. Along with the call price tree, this function should also compute a put price tree stored in a matrix `P` (of the same size as the call price matrix). Following computation of `C` and `P`, create a $(M+1) \\times (M+1)$ matrix `CH`, which stores the tree for the chooser option. At point in time `M`, the last column of this tree will be populated with $V_M=\\max \\{C_{M},P_{M}\\}\\,$. Based on the `CH` tree perform the backwards induction to determine the price of the chooser.\n",
    "\n",
    "   * Now consider a chooser option for which after $M$ periods, the holder will choose between an *American* call or an *American* put (above we were choosing between a *European* call and a *European* put). Modify the function from above so that before populating the chooser tree `CH` the first loop also determines whether to exercise or keep the respective *American* put and *American* call. Call the function that evaluates the price of this particular derivative `chooser_american(S0, K, T, r, sigma, q, N, M)`.\n",
    "\n",
    "   * For the given parameters values ($S_0$, $K$, $T$, $r$, $\\sigma$, $q$, $N$) plot the prices of `chooser` and `chooser_american` as a function of $M$. That is, produce a graph that has the prices of the two options on the y-axis and $M$ on the x-axis. Describe and explain (in words) the price convergence."
   ]
  },
  {
   "cell_type": "code",
   "execution_count": 1,
   "metadata": {
    "colab": {},
    "colab_type": "code",
    "id": "Mm2bVDN8QBHC"
   },
   "outputs": [],
   "source": [
    "import numpy as np\n",
    "import scipy.stats.mstats as stats\n",
    "from scipy.stats import norm\n",
    "import matplotlib.pyplot as plt\n",
    "import matplotlib.patches as mpatches"
   ]
  },
  {
   "cell_type": "markdown",
   "metadata": {
    "colab_type": "text",
    "id": "T1_ELdy9QBHN"
   },
   "source": [
    "Question A1. We want to allow for a dividend yield, $q$. Construct a calltree pricer (vectorised) which accepts an additional input argument `q`. That is, the function becomes `calltree_numpy(S0, K, T, r, sigma, q, N)`. In the function change the risk-neutral probability to $(e^{(r-q)\\delta t}-d)/(u-d)$."
   ]
  },
  {
   "cell_type": "code",
   "execution_count": 2,
   "metadata": {
    "colab": {},
    "colab_type": "code",
    "id": "s9pFSdwyQBHP"
   },
   "outputs": [],
   "source": [
    "#def calltree with addition of dividend term (q)\n",
    "def calltree_numpy(S0, K, T, r, sigma, q, N): \n",
    "    \n",
    "    ## define delta(T)\n",
    "    deltaT = T / float(N)\n",
    "    \n",
    "    ## define the up and down movementsi n the tree \n",
    "    u = np.exp(sigma*np.sqrt(deltaT))\n",
    "    d = 1.0 / u\n",
    "    \n",
    "    #risk neutral probability adjusted according to specification (of the question)\n",
    "    p = (np.exp((r-q)*deltaT)-d) / (u-d)\n",
    "    \n",
    "    ## code the up and down movements in the tree \n",
    "    piu = np.exp(-r*deltaT) * p\n",
    "    pid = np.exp(-r*deltaT) * (1-p)\n",
    "    \n",
    "    ## create a stock price tree based off the movement of the stock price under (u) and (d)\n",
    "    C = np.zeros((N+1, N+1))\n",
    "    S = S0 * u**np.arange(N+1) * d**(2*np.arange(N+1)[:, np.newaxis])\n",
    "    \n",
    "    #keep only the upper triangular part of the matrix (where the payoff is != 0)\n",
    "    S = np.triu(S) \n",
    "    \n",
    "    ## apply the options payoff function\n",
    "    C[:, N] = np.maximum(0, S[:, N]-K) \n",
    "    \n",
    "    ## backwards induction after the final node: \n",
    "    for j in range(N-1, -1, -1):\n",
    "        C[:j+1, j] = piu * C[:j+1, j+1] + pid * C[1:j+2, j+1]\n",
    "        \n",
    "    return C[0, 0]"
   ]
  },
  {
   "cell_type": "code",
   "execution_count": 3,
   "metadata": {
    "colab": {
     "base_uri": "https://localhost:8080/",
     "height": 34
    },
    "colab_type": "code",
    "id": "jM9xkR-SQBHU",
    "outputId": "f25ad19f-60cd-44a7-fa7c-28c930006e5d"
   },
   "outputs": [
    {
     "data": {
      "text/plain": [
       "0.06554359536314218"
      ]
     },
     "execution_count": 3,
     "metadata": {},
     "output_type": "execute_result"
    }
   ],
   "source": [
    "S0=9.; K=11.; T=3/12.; r=.025; sigma=.3; q=.01; N=500; #run function with given values\n",
    "calltree_numpy(S0, K, T, r, sigma, q, N)"
   ]
  },
  {
   "cell_type": "code",
   "execution_count": 4,
   "metadata": {
    "colab": {
     "base_uri": "https://localhost:8080/",
     "height": 34
    },
    "colab_type": "code",
    "id": "11q4Vet7QBHd",
    "outputId": "c816e5ec-9a5e-491b-d524-9b3445c9dce8"
   },
   "outputs": [
    {
     "name": "stdout",
     "output_type": "stream",
     "text": [
      "6.48 ms ± 564 µs per loop (mean ± std. dev. of 7 runs, 100 loops each)\n"
     ]
    }
   ],
   "source": [
    "%timeit calltree_numpy(S0, K, T, r, sigma, q, N) #ipython magic for timing things"
   ]
  },
  {
   "cell_type": "markdown",
   "metadata": {
    "colab_type": "text",
    "id": "EMkaN-pEQBHj"
   },
   "source": [
    "Question A2. Building on your function from the previous question write a function `chooser(S0, K, T, r, sigma, q, N, M)` that prices a European chooser option. Along with the call price tree, this function should also compute a put price tree stored in a matrix `P` (of the same size as the call price matrix). Following computation of `C` and `P`, create a $(M+1) \\times (M+1)$ matrix `CH`, which stores the tree for the chooser option. At point in time `M`, the last column of this tree will be populated with $V_M=\\max \\{C_{M},P_{M}\\}\\,$. Based on the `CH` tree perform the backwards induction to determine the price of the chooser."
   ]
  },
  {
   "cell_type": "code",
   "execution_count": 5,
   "metadata": {
    "colab": {},
    "colab_type": "code",
    "id": "-4GDd_vZQBHl"
   },
   "outputs": [],
   "source": [
    "## chooser function with additional dividend term (q)\n",
    "def chooser(S0, K, T, r, sigma, q, N, M): \n",
    "    \n",
    "    ## define time intervals delta_t\n",
    "    deltaT = T / float(N)\n",
    "    \n",
    "    ## define up and down movements in the tree\n",
    "    u = np.exp(sigma*np.sqrt(deltaT))\n",
    "    d = 1.0 / u\n",
    "    \n",
    "    #risk neutral probability adjusted according to specification\n",
    "    p = (np.exp((r-q)*deltaT)-d) / (u-d) \n",
    "    piu = np.exp(-r*deltaT) * p\n",
    "    pid = np.exp(-r*deltaT) * (1-p)\n",
    "    \n",
    "    # create matrix P/C\n",
    "    C = np.zeros((N+1, N+1))\n",
    "    P = np.zeros((N+1, N+1)) \n",
    "    \n",
    "    S = S0 * u**np.arange(N+1) * d**(2*np.arange(N+1)[:, np.newaxis])\n",
    "    \n",
    "    ## keep only the upper triangular part (not necessary but speed enhancement)\n",
    "    S = np.triu(S) \n",
    "    \n",
    "    ## calculate payoffs \n",
    "    C[:, N] = np.maximum(0, S[:, N]-K) \n",
    "    P[:, N] = np.maximum(0, K-S[:, N]) \n",
    "    \n",
    "    #for loop to populate put and call matrices\n",
    "    for j in range(N-1, -1, -1):\n",
    "        C[:j+1, j] = piu * C[:j+1, j+1] + pid * C[1:j+2, j+1]\n",
    "        P[:j+1, j] = piu * P[:j+1, j+1] + pid * P[1:j+2, j+1]\n",
    "        \n",
    "    #return C[0, 0], P[0, 0] #check to see prices for put and call\n",
    "    \n",
    "    #create chooser matrix\n",
    "    CH = np.zeros((M+1, M+1)) \n",
    "    \n",
    "    #populate last column with maximum of put/call\n",
    "    CH[:, M] = np.maximum(C[:M+1, M], P[:M+1, M])\n",
    "    \n",
    "    #backwards induction\n",
    "    for i in range(M-1, -1, -1):\n",
    "        CH[:i+1, i] = piu * CH[:i+1, i+1] + pid * CH[1:i+2, i+1]\n",
    "        \n",
    "    ## return price     \n",
    "    return CH[0, 0]"
   ]
  },
  {
   "cell_type": "code",
   "execution_count": 6,
   "metadata": {
    "colab": {
     "base_uri": "https://localhost:8080/",
     "height": 34
    },
    "colab_type": "code",
    "id": "bisilVExQBHu",
    "outputId": "3c0e00b0-4597-4deb-d35a-604c04b2c08f"
   },
   "outputs": [
    {
     "data": {
      "text/plain": [
       "2.025914426146793"
      ]
     },
     "execution_count": 6,
     "metadata": {},
     "output_type": "execute_result"
    }
   ],
   "source": [
    "#run function with given values\n",
    "S0=9.; K=11.; T=3/12.; r=.025; sigma=.3; q=.01; N=500; M=200; \n",
    "chooser(S0, K, T, r, sigma, q, N, M)"
   ]
  },
  {
   "cell_type": "code",
   "execution_count": 7,
   "metadata": {
    "colab": {
     "base_uri": "https://localhost:8080/",
     "height": 34
    },
    "colab_type": "code",
    "id": "jgpFwep-QBH0",
    "outputId": "9a7e9917-1927-4bc3-f76c-83c1c78fedd4"
   },
   "outputs": [
    {
     "name": "stdout",
     "output_type": "stream",
     "text": [
      "13.8 ms ± 1.14 ms per loop (mean ± std. dev. of 7 runs, 100 loops each)\n"
     ]
    }
   ],
   "source": [
    "%timeit chooser(S0, K, T, r, sigma, q, N, M) "
   ]
  },
  {
   "cell_type": "code",
   "execution_count": null,
   "metadata": {},
   "outputs": [],
   "source": []
  },
  {
   "cell_type": "markdown",
   "metadata": {
    "colab_type": "text",
    "id": "2WOLP67yQBH3"
   },
   "source": [
    "Question A3.  Now consider a chooser option for which after 𝑀 periods, the holder will choose between an American call or an American put (above we were choosing between a European call and a European put). Modify the function from above so that before populating the chooser tree CH the first loop also determines whether to exercise or keep the respective American put and American call. Call the function that evaluates the price of this particular derivative chooser_american(S0, K, T, r, sigma, q, N, M)."
   ]
  },
  {
   "cell_type": "code",
   "execution_count": 8,
   "metadata": {
    "colab": {},
    "colab_type": "code",
    "id": "y4yJ3TPtQBH4"
   },
   "outputs": [],
   "source": [
    "def chooser_american(S0, K, T, r, sigma, q, N, M): #\n",
    "    ## variables as defined above: \n",
    "    deltaT = T / float(N)\n",
    "    u = np.exp(sigma*np.sqrt(deltaT))\n",
    "    d = 1.0 / u\n",
    "    p = (np.exp((r-q)*deltaT)-d) / (u-d) \n",
    "    piu = np.exp(-r*deltaT) * p\n",
    "    pid = np.exp(-r*deltaT) * (1-p)\n",
    "    \n",
    "    C = np.zeros((N+1, N+1))\n",
    "    P = np.zeros((N+1, N+1)) \n",
    "    S = S0 * u**np.arange(N+1) * d**(2*np.arange(N+1)[:, np.newaxis])\n",
    "    S = np.triu(S) \n",
    "    \n",
    "    C[:, N] = np.maximum(0, S[:, N]-K)\n",
    "    P[:, N] = np.maximum(0, K-S[:, N]) \n",
    "    \n",
    "    ## loop for the payoffs \n",
    "    for j in range(N-1, -1, -1):\n",
    "        C[:j+1, j] = piu * C[:j+1, j+1] + pid * C[1:j+2, j+1] \n",
    "        C[:j+1, j] = np.maximum(C[:j+1, j], S[:j+1,j]-K)\n",
    "        \n",
    "        #take the maximum of the remaining value or value at n-1\n",
    "        P[:j+1, j] = piu * P[:j+1, j+1] + pid * P[1:j+2, j+1]\n",
    "        #take the maximum of the remaining value or value at n-1\n",
    "        P[:j+1, j] = np.maximum(P[:j+1, j], K-S[:j+1, j] )\n",
    "        \n",
    "\n",
    "    #create chooser matrix\n",
    "    CH = np.zeros((M+1, M+1)) \n",
    "    \n",
    "    #populate last column with maximum of put/call\n",
    "    CH[:, M] = np.maximum(C[:M+1, M], P[:M+1, M])\n",
    "    \n",
    "    #backwards induction\n",
    "    for i in range(M-1, -1, -1):\n",
    "        CH[:i+1, i] = piu * CH[:i+1, i+1] + pid * CH[1:i+2, i+1]\n",
    "    return CH[0, 0]"
   ]
  },
  {
   "cell_type": "code",
   "execution_count": 9,
   "metadata": {
    "colab": {
     "base_uri": "https://localhost:8080/",
     "height": 34
    },
    "colab_type": "code",
    "id": "El-jug_IQBH7",
    "outputId": "aa939667-7400-4fe4-c6e9-d87ea9051acb"
   },
   "outputs": [
    {
     "data": {
      "text/plain": [
       "2.0418690863961153"
      ]
     },
     "execution_count": 9,
     "metadata": {},
     "output_type": "execute_result"
    }
   ],
   "source": [
    "S0=9.; K=11.; T=3/12.; r=.025; sigma=.3; q=.01; N=500; M=200; #run function with given values\n",
    "chooser_american(S0, K, T, r, sigma, q, N, M)"
   ]
  },
  {
   "cell_type": "code",
   "execution_count": 10,
   "metadata": {
    "colab": {
     "base_uri": "https://localhost:8080/",
     "height": 34
    },
    "colab_type": "code",
    "id": "6vm1FrKmQBIA",
    "outputId": "b32677ae-c362-4997-8351-2c2366244444"
   },
   "outputs": [
    {
     "name": "stdout",
     "output_type": "stream",
     "text": [
      "20.4 ms ± 1.35 ms per loop (mean ± std. dev. of 7 runs, 10 loops each)\n"
     ]
    }
   ],
   "source": [
    "%timeit chooser_american(S0, K, T, r, sigma, q, N, M) #ipython magic for timing things"
   ]
  },
  {
   "cell_type": "markdown",
   "metadata": {
    "colab_type": "text",
    "id": "DQ21U4lfQBIF"
   },
   "source": [
    "Question A4. For the given parameters values ($S_0$, $K$, $T$, $r$, $\\sigma$, $q$, $N$) plot the prices of `chooser` and `chooser_american` as a function of $M$. That is, produce a graph that has the prices of the two options on the y-axis and $M$ on the x-axis. Describe and explain (in words) the price convergence."
   ]
  },
  {
   "cell_type": "code",
   "execution_count": 11,
   "metadata": {
    "colab": {},
    "colab_type": "code",
    "id": "Y1Qx8_5AQBIG"
   },
   "outputs": [],
   "source": [
    "S0=9.; K=11.; T=3/12.; r=.025; sigma=.3; q=.01; N=500\n",
    "M = range(0, 499)\n",
    "\n",
    "## create empty lists to hold the prices of the choosers \n",
    "Chooser_EU = []\n",
    "Chooser_USA = []\n",
    "\n",
    "for j in M:\n",
    "    \n",
    "    ## apply valuation function for european chooser up until M=499 (must be < 500)\n",
    "    x1 = chooser(S0, K, T, r, sigma, q, N, j)\n",
    "    \n",
    "    #calculate prices for american chooser up until M=499 (should be less than 500)\n",
    "    x2 = chooser_american(S0, K, T, r, sigma, q, N, j)\n",
    "    \n",
    "    ## append values to lists \n",
    "    Chooser_EU.append(x1)\n",
    "    Chooser_USA.append(x2)"
   ]
  },
  {
   "cell_type": "code",
   "execution_count": 12,
   "metadata": {
    "colab": {
     "base_uri": "https://localhost:8080/",
     "height": 299
    },
    "colab_type": "code",
    "id": "1ubDP5wzQBII",
    "outputId": "8369a8bb-e680-4711-f1d1-7a182c120a48"
   },
   "outputs": [
    {
     "data": {
      "image/png": "[encoded data removed]",
      "text/plain": [
       "<Figure size 432x288 with 1 Axes>"
      ]
     },
     "metadata": {
      "needs_background": "light"
     },
     "output_type": "display_data"
    }
   ],
   "source": [
    "## plot the prices of the two options over time \n",
    "plt.plot(Chooser_EU, color='blue')\n",
    "plt.plot(Chooser_USA, color='red')\n",
    "plt.title('American vs European Chooser Option', fontsize=16)\n",
    "plt.xlabel('$M$')\n",
    "plt.ylabel('$Price$')\n",
    "\n",
    "#create legend with corresponding colours\n",
    "eu_patch = mpatches.Patch(color='blue', label='$European$ Chooser')\n",
    "us_patch = mpatches.Patch(color='red', label='$American$ Chooser')\n",
    "plt.legend(handles=[eu_patch, us_patch])\n",
    "plt.show();"
   ]
  },
  {
   "cell_type": "markdown",
   "metadata": {
    "colab_type": "text",
    "id": "EDFtBcOcQBIK"
   },
   "source": [
    "To begin with, the American chooser option has a clear premium over the European one, due to the fact that the American one has the additional flexibility of being exercisable before the actual exercise date, as opposed to a European one. As time goes by, the holder of an American option has fewer and fewer opportunities to exercise the option early, hence both prices converge towards slightly over 2.08 as M approaches 500(=N--> exercise date)."
   ]
  },
  {
   "cell_type": "code",
   "execution_count": null,
   "metadata": {},
   "outputs": [],
   "source": []
  },
  {
   "cell_type": "code",
   "execution_count": null,
   "metadata": {},
   "outputs": [],
   "source": []
  },
  {
   "cell_type": "markdown",
   "metadata": {
    "colab_type": "text",
    "id": "1yZzGAqaQBIL"
   },
   "source": [
    "#  **Question B**:\n",
    "\n",
    " We wish to obtain the no-arbitrage price $X_{0}$ of an index-linked certificate. The derivative has payoff $X_{T}$, defined from the path of an equity index $\\{S_{t}\\}_{0\\leq t\\leq T}$ as follows:\n",
    " $$\n",
    " X_{T}=S_{0}\\prod\\nolimits_{t=1}^{T}(1+\\max (R_{t},R)),\\qquad R_{t}=\\frac{S_{t}-S_{t-1}}{S_{t-1}},\\qquad R=e^{r}-1,\n",
    " $$\n",
    " where $r\\equiv \\log (1+R)$ is the continuously compounded interest rate, so that $R$ is the corresponding annually compounded interest rate. Time is measured in years, and $T$ is a positive integer, representing the number of years after which the payoff is received. The idea behind this derivative is that the investor participates in the upside potential of the stock market, but receives a guaranteed minimum return. The value $X_{0}$ of this product cannot be evaluated analytically. \n",
    "\n",
    " We assume a Black-Scholes economy and use the following parameter values: $S_0=12$, $T=10$, $R=0.025$, $\\sigma =0.3$, and $q =0.01$. \n",
    "     \n",
    "   1. Using `asianmc_vec` (and `bmsim_vec`) as a starting point, modify the `payoff` of the derivative accordingly. Call the function `certificatemc(S0, R, T, sigma, q, numsim=10000)`, which will return the Monte Carlo estimate of $X_{0}$, along with a 95% confidence interval. **Notice that both the interval and the CI should be stated explicitly in your answers, based on a random seed of 0**.\n",
    "   \n",
    "   2. Consider a second derivative with payoff $F_{T}=\\max (S_{0}(1+R)^{T},S_{T})$. Show (with pen and paper, or preferably inside the notebook using Markdown and $\\LaTeX$) that the no-arbitrage price $F_{0}$ is\n",
    " $$  \n",
    " F_{0}=S_{0}(1+e^{-q T}\\Phi (d_{1})-\\Phi (d_{2})),\n",
    " $$\n",
    " where\n",
    " $$\n",
    " d_{1}=\\frac{(-q +\\frac{1}{2}\\sigma ^{2})T}{\\sigma \\sqrt{T}},\\qquad\n",
    " d_{2}=d_{1}-\\sigma \\sqrt{T}=\\frac{(-q -\\frac{1}{2}\\sigma ^{2})T}{\\sigma\n",
    " \\sqrt{T}}.\n",
    " $$\n",
    " Hint: The payoff $F_T$ can be replicated with a position in cash bonds and a European call option with a non-standard strike price; re-arrange $F_{T}=\\max (S_{0}(1+R)^{T},S_{T})$ to understand this.\n",
    " \n",
    " Building on `blackscholes(S0, K, T, r, sigma)` (see week 4), write a function `F0(S0, R, T, sigma, q)` that evaluates the price of the derivative. \n",
    "**The resulting value for the given parameter values should be given explicitly in your answer**.\n",
    "\n",
    "3.   Write a function `certificatecv(S0, R, T, sigma, q, numsim=10000)` that improves upon your code from the previous question by using $F_{T}$ as a control variate.\n",
    "**Report the improved estimate $\\hat{X}_{0}$ along with an apropriately constructed confidence interval, based on a random seed of 0.** Then, compare the CI with the one based on the crude MC estimate, and discuss your findings; are they in line with the theory? Has the computational cost increased?\n",
    "\n",
    "4. Test if the confidence interval returned by `certificatecv` has correct coverage, by simulating 1000 independent ones (with `numsim=1000`), and recording in a hit series $I_j$, $j\\in\\{1, \\ldots, 1000\\}$, whether an interval contains the true price ($I_j=1$) or not ($I_j=0$). The test can be conducted by regressing $\\{I_j-0.95\\}_{j=1}^{1000}$ on an intercept and testing whether that is zero. The 'true' price should be obtained from `certificatecv` with `numsim=100000`."
   ]
  },
  {
   "cell_type": "markdown",
   "metadata": {
    "colab_type": "text",
    "id": "DhiVFzNuQBIL"
   },
   "source": [
    "Question B1. Using asianmc_vec (and bmsim_vec) as a starting point, modify the payoff of the derivative accordingly. Call the function certificatemc(S0, R, T, sigma, q, numsim=10000), which will return the Monte Carlo estimate of 𝑋0, along with a 95% confidence interval. Notice that both the interval and the CI should be stated explicitly in your answers, based on a random seed of 0."
   ]
  },
  {
   "cell_type": "code",
   "execution_count": 2,
   "metadata": {
    "colab": {},
    "colab_type": "code",
    "id": "dvDSIzQSQBIM"
   },
   "outputs": [],
   "source": [
    "S0=12; T=10; R=0.025; sigma=0.3; q=0.01; N=T"
   ]
  },
  {
   "cell_type": "code",
   "execution_count": 9,
   "metadata": {
    "colab": {},
    "colab_type": "code",
    "id": "EpLJ3slUQBIP"
   },
   "outputs": [],
   "source": [
    "## Note new input: numsim --  the number of paths.\n",
    "def bmsim_vec(T, N, X0=0, mu=0, sigma=1, numsim=1): \n",
    "    \n",
    "#Simulate `numsim` quantity of Brownian motion paths.\n",
    "    deltaT = float(T)/N\n",
    "    tvec = np.linspace(0, T, N+1)\n",
    "    z = np.random.randn(numsim, N+1) #(N+1)->(numsim, N+1)\n",
    "    dX = mu*deltaT + sigma*np.sqrt(deltaT)*z\n",
    "    \n",
    "    dX[:, 0] = 0. #dX[0]->dX[:, 0]\n",
    "    X = np.cumsum(dX, axis=1) #cumsum(dX)->cumsum(dX, axis=1)\n",
    "    X += X0\n",
    "    return tvec, X"
   ]
  },
  {
   "cell_type": "code",
   "execution_count": 10,
   "metadata": {
    "colab": {},
    "colab_type": "code",
    "id": "WuJKaZ02QBIS"
   },
   "outputs": [],
   "source": [
    "def certificatemc(S0, R, T, sigma, q, numsim=10000):\n",
    "    \n",
    "    #Monte Carlo price of an arithmetic average Asian call, adapted to index-linked certificate.\n",
    "    X0 = np.log(S0)\n",
    "    r = np.log(1+R) # define r as above\n",
    "    nu = r-q-.5*sigma**2\n",
    "    \n",
    "    #simulate all paths at once:\n",
    "    # simulate the stock price\n",
    "    _, X = bmsim_vec(T, N, X0, nu, sigma, numsim)\n",
    "    S = np.exp(X)\n",
    "    S_tlag = S[:,:N]\n",
    "    S_t = S[:,1:]\n",
    "    \n",
    "    #calculate return of index\n",
    "    Rt = (S_t - S_tlag) / S_tlag \n",
    "    \n",
    "    # take maximum of index return or guaranteed rate\n",
    "    R_max = np.maximum(Rt,R) \n",
    "    \n",
    "    #calculate return for each year\n",
    "    R_max = np.cumprod(1+R_max,axis=1) \n",
    "    \n",
    "    ## payyoffs\n",
    "    payoffs = S0 * R_max[:,N-1] \n",
    "    \n",
    "    ## discount the payoffs\n",
    "    g = np.exp(-r*T)*payoffs \n",
    "    \n",
    "    ## get mean and standard_deviation for the confidence intervals\n",
    "    C = g.mean(); s = g.std()\n",
    "    zq = norm.ppf(0.975)\n",
    "    Cl = C - zq/np.sqrt(numsim)*s\n",
    "    Cu = C + zq/np.sqrt(numsim)*s\n",
    "    return C, Cl, Cu"
   ]
  },
  {
   "cell_type": "code",
   "execution_count": 8,
   "metadata": {
    "colab": {
     "base_uri": "https://localhost:8080/",
     "height": 34
    },
    "colab_type": "code",
    "id": "_SuaQclBQBIW",
    "outputId": "54f04c86-16f7-47cc-e457-660badad4558"
   },
   "outputs": [
    {
     "data": {
      "text/plain": [
       "(35.232976937666535, 34.80365527102579, 35.66229860430728)"
      ]
     },
     "execution_count": 8,
     "metadata": {},
     "output_type": "execute_result"
    }
   ],
   "source": [
    "np.random.seed(0)\n",
    "certificatemc(S0, R, T, sigma, q, numsim=10000)"
   ]
  },
  {
   "cell_type": "code",
   "execution_count": 31,
   "metadata": {
    "colab": {
     "base_uri": "https://localhost:8080/",
     "height": 34
    },
    "colab_type": "code",
    "id": "wgAEeqy1QBIZ",
    "outputId": "bc510b80-c7ff-4894-912d-88d6e290c334"
   },
   "outputs": [
    {
     "name": "stdout",
     "output_type": "stream",
     "text": [
      "6.39 ms ± 236 µs per loop (mean ± std. dev. of 7 runs, 100 loops each)\n"
     ]
    }
   ],
   "source": [
    "%timeit certificatemc(S0, R, T, sigma, q, numsim=10000) #ipython magic for timing things"
   ]
  },
  {
   "cell_type": "code",
   "execution_count": 32,
   "metadata": {
    "colab": {
     "base_uri": "https://localhost:8080/",
     "height": 34
    },
    "colab_type": "code",
    "id": "jQIv5PcjQBId",
    "outputId": "4637a438-5e53-4cba-9ea5-7bca6ee1f694"
   },
   "outputs": [
    {
     "data": {
      "text/plain": [
       "'The Monte Carlo estimation of X0 is 35.233, and the estimation of the 95% confidence interval is [34.804, 35.662].'"
      ]
     },
     "execution_count": 32,
     "metadata": {},
     "output_type": "execute_result"
    }
   ],
   "source": [
    "np.random.seed(0)\n",
    "C, Cl, Cu = certificatemc(S0, R, T, sigma, q, numsim=10000)\n",
    "'The Monte Carlo estimation of X0 is %4.3f' %C+', and the estimation of the 95%% confidence interval is [%4.3f'%Cl+', %4.3f'%Cu+'].'"
   ]
  },
  {
   "cell_type": "markdown",
   "metadata": {
    "colab_type": "text",
    "id": "zpritCgSQBIh"
   },
   "source": [
    "Question B2. Consider a second derivative with payoff $F_{T}=\\max (S_{0}(1+R)^{T},S_{T})$. Show (with pen and paper, or preferably inside the notebook using Markdown and $\\LaTeX$) that the no-arbitrage price $F_{0}$ is\n",
    " $$  \n",
    " F_{0}=S_{0}(1+e^{-q T}\\Phi (d_{1})-\\Phi (d_{2})),\n",
    " $$\n",
    " where\n",
    " $$\n",
    " d_{1}=\\frac{(-q +\\frac{1}{2}\\sigma ^{2})T}{\\sigma \\sqrt{T}},\\qquad\n",
    " d_{2}=d_{1}-\\sigma \\sqrt{T}=\\frac{(-q -\\frac{1}{2}\\sigma ^{2})T}{\\sigma\n",
    " \\sqrt{T}}.\n",
    " $$\n",
    " Hint: The payoff $F_T$ can be replicated with a position in cash bonds and a European call option with a non-standard strike price; re-arrange $F_{T}=\\max (S_{0}(1+R)^{T},S_{T})$ to understand this.\n",
    " \n",
    " Building on `blackscholes(S0, K, T, r, sigma)` (see week 4), write a function `F0(S0, R, T, sigma, q)` that evaluates the price of the derivative. \n",
    "**The resulting value for the given parameter values should be given explicitly in your answer**."
   ]
  },
  {
   "cell_type": "markdown",
   "metadata": {
    "colab_type": "text",
    "id": "4b6MrzJgQBIi"
   },
   "source": [
    "Solution:"
   ]
  },
  {
   "cell_type": "markdown",
   "metadata": {
    "colab_type": "text",
    "id": "pa6eMkKIQBIj"
   },
   "source": [
    "$F_{T}$can be seen as a position in a cash bond plus a European call option, and $S_{0}(1+R)^{T}$ can be seen as $K$ in the Black-Scholes model, hence we can replace $K$ by $S_{0}(1+R)^{T}$. This leads to:\n",
    "$$\n",
    "F_{T}=\\max (S_{0}(1+R)^{T},S_{T}) \n",
    "$$\n",
    "being rearranged as:\n",
    "$$\n",
    "F_{T}=S_{0}(1+R)^T+\\max(0,S_{T}-S_{0}(1+R^T)\n",
    "$$\n",
    "$F_{0}$ then becomes:\n",
    "\n",
    "$$\n",
    "F_{0}=S_{0}+S_{0}e^{-q T}\\Phi (d_{1})-S_{0}(1+R)^{T}e^{-rT}\\Phi (d_{2})\n",
    "$$\n",
    "since $(1+R)^{T}e^{-rT}=1$:\n",
    "$$\n",
    "F_{0}=S_{0}+S_{0}e^{-q T}\\Phi (d_{1})-S_{0}\\Phi (d_{2})\n",
    "$$ \n",
    "rearranging we get:\n",
    "<br>\n",
    "$$\n",
    "F_{0}=S_{0}(1+e^{-q T}\\Phi (d_{1})-\\Phi (d_{2}))\n",
    "$$\n",
    "<br>\n",
    "We also replace $K$ by $S_{0}(1+R)^{T}$ in $d_{1}$ and $d_{2}$. $d_{1}$ goes from:\n",
    "$$\n",
    "d_{1}=\\frac{log(\\frac{S_{0}}{K})+(r-q +\\frac{1}{2}\\sigma ^{2})T}{\\sigma \\sqrt{T}}\\qquad\n",
    "$$\n",
    "To:\n",
    "$$\n",
    "d_{1}=\\frac{log(\\frac{S_{0}}{S_{0}(1+R)^{T}})+(r-q +\\frac{1}{2}\\sigma ^{2})T}{\\sigma \\sqrt{T}}\\qquad\n",
    "$$\n",
    "<br>\n",
    "since $log(\\frac{S_{0}}{S_{0}(1+R)^{T}})=log(\\frac{1}{(1+R)^{T}})=-log(1+R)^T=-rT$:\n",
    "<br>\n",
    "$$\n",
    "d_{1}=\\frac{-rT+(r-q +\\frac{1}{2}\\sigma ^{2})T}{\\sigma \\sqrt{T}}\\qquad\n",
    "$$\n",
    "Rearranging:\n",
    "<br>\n",
    "$$\n",
    "d_{1}=\\frac{(-q +\\frac{1}{2}\\sigma ^{2})T}{\\sigma \\sqrt{T}},\\qquad\n",
    "$$\n",
    "Hence, $d_{2}$ becomes:\n",
    "$$\n",
    "d_{2}=d_{1}-\\sigma \\sqrt{T}=\\frac{(-q -\\frac{1}{2}\\sigma ^{2})T}{\\sigma \\sqrt{T}}\n",
    "$$"
   ]
  },
  {
   "cell_type": "code",
   "execution_count": 33,
   "metadata": {
    "colab": {},
    "colab_type": "code",
    "id": "c0TFriUWQBIk"
   },
   "outputs": [],
   "source": [
    "#F0 function for derivative based on blackscholes function\n",
    "def F0(S0, R, T, sigma, q): \n",
    "    d1 = (-q+0.5*(sigma**2))*T/(sigma*np.sqrt(T))    \n",
    "    d2 = d1-sigma*np.sqrt(T) \n",
    "    F0 = S0*(1+np.exp(-q*T)*norm.cdf(d1)-norm.cdf(d2))\n",
    "    return F0"
   ]
  },
  {
   "cell_type": "code",
   "execution_count": 34,
   "metadata": {
    "colab": {
     "base_uri": "https://localhost:8080/",
     "height": 34
    },
    "colab_type": "code",
    "id": "RxYabzUqQBIn",
    "outputId": "ee0347c0-ffc4-4b8a-b43d-9e2dcd19fa44"
   },
   "outputs": [
    {
     "data": {
      "text/plain": [
       "15.619120903425273"
      ]
     },
     "execution_count": 34,
     "metadata": {},
     "output_type": "execute_result"
    }
   ],
   "source": [
    "#F0(12, 0.025, 10, 0.3, 0.01)\n",
    "F0(S0, R, T, sigma, q)"
   ]
  },
  {
   "cell_type": "code",
   "execution_count": 35,
   "metadata": {
    "colab": {
     "base_uri": "https://localhost:8080/",
     "height": 51
    },
    "colab_type": "code",
    "id": "vBhQZD1PQBIp",
    "outputId": "012b151d-55e0-4a2c-80e3-718738b28a2d"
   },
   "outputs": [
    {
     "name": "stdout",
     "output_type": "stream",
     "text": [
      "201 µs ± 11.5 µs per loop (mean ± std. dev. of 7 runs, 1000 loops each)\n"
     ]
    }
   ],
   "source": [
    "%timeit F0(S0, R, T, sigma, q) "
   ]
  },
  {
   "cell_type": "code",
   "execution_count": 36,
   "metadata": {
    "colab": {
     "base_uri": "https://localhost:8080/",
     "height": 34
    },
    "colab_type": "code",
    "id": "GWSliGNZQBIs",
    "outputId": "d633dd54-a308-46b1-afd7-975310fd743d"
   },
   "outputs": [
    {
     "data": {
      "text/plain": [
       "'The price of the derivative based on the Black-Scholes model is 15.619'"
      ]
     },
     "execution_count": 36,
     "metadata": {},
     "output_type": "execute_result"
    }
   ],
   "source": [
    "F01=F0(S0, R, T, sigma, q)\n",
    "'The price of the derivative based on the Black-Scholes model is %4.3f'%F01"
   ]
  },
  {
   "cell_type": "markdown",
   "metadata": {
    "colab_type": "text",
    "id": "3RmCxWgqQBIu"
   },
   "source": [
    "Question B3. Write a function `certificatecv(S0, R, T, sigma, q, numsim=10000)` that improves upon your code from the previous question by using $F_{T}$ as a control variate.\n",
    "**Report the improved estimate $\\hat{X}_{0}$ along with an appropriately constructed confidence interval, based on a random seed of 0.** Then, compare the CI with the one based on the crude MC estimate, and discuss your findings; are they in line with the theory? Has the computational cost increased?"
   ]
  },
  {
   "cell_type": "code",
   "execution_count": 47,
   "metadata": {
    "colab": {},
    "colab_type": "code",
    "id": "yS4pA5BCQBIv"
   },
   "outputs": [],
   "source": [
    "## Monte Carlo price of an arithmetic average Asian call using control variates.\n",
    "def certificatecv(S0, R, T, sigma, q, numsim=10000):\n",
    "    ## variables as defined above \n",
    "    X0 = np.log(S0)\n",
    "    r = np.log(1+R) \n",
    "    nu = r-q-.5*sigma**2\n",
    "    #simulate all paths at once:\n",
    "    \n",
    "    _, X = bmsim_vec(T, N, X0, nu, sigma, numsim)\n",
    "    S = np.exp(X)\n",
    "    S_1 = S[:,:N]\n",
    "    S_2 = S[:,1:]\n",
    "    Rt = (S_2 - S_1) / S_1 \n",
    "    R_max = np.maximum(Rt,R) \n",
    "    R_max = np.cumprod(1+R_max,axis=1)\n",
    "    mu = F0(S0, R, T, sigma, q)\n",
    "    payoffs = S0 * R_max[:,N-1]\n",
    "    \n",
    "    ## create control variate as per financial theory \n",
    "    control_Ft = np.maximum(S0*(1+R)**T, S[:,N])\n",
    "    c = (np.cov(payoffs, control)/np.var(control))[0, 1]\n",
    "    \n",
    "    \n",
    "    g = np.exp(-r*T)*payoffs - c*(np.exp(-r*T)*control-mu)\n",
    "    C = g.mean(); s = g.std()\n",
    "    zq = norm.ppf(0.975)\n",
    "    Cl = C - zq/np.sqrt(numsim)*s\n",
    "    Cu = C + zq/np.sqrt(numsim)*s\n",
    "    return C, Cl, Cu"
   ]
  },
  {
   "cell_type": "code",
   "execution_count": 49,
   "metadata": {
    "colab": {
     "base_uri": "https://localhost:8080/",
     "height": 300
    },
    "colab_type": "code",
    "id": "3pKtRqP1QBIx",
    "outputId": "8bdfc13c-fa75-498e-c206-a5bec7ce1ba6"
   },
   "outputs": [
    {
     "data": {
      "text/plain": [
       "(35.136318890302036,\n",
       " 0.5325508901919989,\n",
       " 34.870043445206036,\n",
       " 35.402594335398035)"
      ]
     },
     "execution_count": 49,
     "metadata": {},
     "output_type": "execute_result"
    }
   ],
   "source": [
    "np.random.seed(0)\n",
    "C, Cl, Cu = certificatecv(S0, R, T, sigma, q, numsim=10000)\n",
    "C, Cu - Cl, Cl, Cu"
   ]
  },
  {
   "cell_type": "code",
   "execution_count": null,
   "metadata": {
    "colab": {},
    "colab_type": "code",
    "id": "WNZaiPnWQBI2"
   },
   "outputs": [],
   "source": []
  },
  {
   "cell_type": "code",
   "execution_count": null,
   "metadata": {
    "colab": {},
    "colab_type": "code",
    "id": "f8lcQx6xQBI5"
   },
   "outputs": [],
   "source": []
  },
  {
   "cell_type": "markdown",
   "metadata": {
    "colab_type": "text",
    "id": "Vkpnc1bQQBI8"
   },
   "source": [
    "Question B4. Test if the confidence interval returned by `certificatecv` has correct coverage, by simulating 1000 independent ones (with `numsim=1000`), and recording in a hit series $I_j$, $j\\in\\{1, \\ldots, 1000\\}$, whether an interval contains the true price ($I_j=1$) or not ($I_j=0$). The test can be conducted by regressing $\\{I_j-0.95\\}_{j=1}^{1000}$ on an intercept and testing whether that is zero. The 'true' price should be obtained from `certificatecv` with `numsim=100000`."
   ]
  },
  {
   "cell_type": "code",
   "execution_count": null,
   "metadata": {
    "colab": {},
    "colab_type": "code",
    "id": "k0CjF5LyQBI9"
   },
   "outputs": [],
   "source": []
  },
  {
   "cell_type": "code",
   "execution_count": null,
   "metadata": {
    "colab": {},
    "colab_type": "code",
    "id": "aLFpaYz_QBJA"
   },
   "outputs": [],
   "source": []
  }
 ],
 "metadata": {
  "colab": {
   "collapsed_sections": [],
   "name": "Assignment 2.ipynb",
   "provenance": []
  },
  "kernelspec": {
   "display_name": "Python 3",
   "language": "python",
   "name": "python3"
  },
  "language_info": {
   "codemirror_mode": {
    "name": "ipython",
    "version": 3
   },
   "file_extension": ".py",
   "mimetype": "text/x-python",
   "name": "python",
   "nbconvert_exporter": "python",
   "pygments_lexer": "ipython3",
   "version": "3.8.5"
  }
 },
 "nbformat": 4,
 "nbformat_minor": 1
}
