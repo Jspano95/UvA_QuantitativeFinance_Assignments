{
 "cells": [
  {
   "cell_type": "markdown",
   "metadata": {},
   "source": [
    "# Advanced Risk Management - Assignment 2"
   ]
  },
  {
   "cell_type": "markdown",
   "metadata": {},
   "source": [
    "## Monte Carlo approach to Value at Risk computation"
   ]
  },
  {
   "cell_type": "markdown",
   "metadata": {},
   "source": [
    "### Prepared by Deloitte – Financial Risk Management"
   ]
  },
  {
   "cell_type": "markdown",
   "metadata": {},
   "source": [
    "**Deadline**:  March 13, 23.59h.\n",
    "\n",
    "| |Name |Student number|Email|\n",
    "\n",
    "|1.| Jason Spano | 12792160   | jason.spano@student.uva.nl    |\n",
    "\n",
    "****Hand in the following via Canvas****:\n",
    "* Your notebook.\n",
    "* A (printed) pdf version of your notebook. In Google Colab, this is most conveniently done in the Chrome browser, and then using the **`File` -> `Print`** menu option; you may have to print in landscape mode to make sure that everything appears in the pdf.\n",
    "\n",
    "****Notes****:\n",
    "* The assignment is part of the examination, so the usual rules regarding plagiarism and fraud apply.\n",
    "* Before submitting your work, click on **`Runtime`-> `Restart and run all ...`** and verify that your notebook produces the desired results and does not error.\n",
    "\n",
    "**Declaration of Originality**: We whose names are given under 1. above declare that these solutions are solely our own work, and that we have not made these solutions available to any other student."
   ]
  },
  {
   "cell_type": "markdown",
   "metadata": {},
   "source": [
    "### Introduction\n",
    "The data file `SPX&MSFT_1990-2020_USD.xlsx` contains daily price data (January 1990 – February 2020) on the closing price of the S&P 500 index and the Microsoft stock."
   ]
  },
  {
   "cell_type": "code",
   "execution_count": 1,
   "metadata": {},
   "outputs": [],
   "source": [
    "# Load libraries\n",
    "import pandas as pd \n",
    "import numpy as np \n",
    "import matplotlib.pyplot as plt\n",
    "import scipy.stats as stats\n",
    "import statsmodels.api as sm\n",
    "import statsmodels.formula.api as smf\n",
    "import seaborn as sns\n",
    "from IPython.display import display_html\n",
    "from arch import arch_model\n",
    "from tabulate import tabulate \n",
    "from math import isclose\n",
    "from scipy.stats import ttest_ind, ttest_rel, kendalltau, normaltest, pearsonr\n",
    "from copulae import GaussianCopula, NormalCopula, StudentCopula"
   ]
  },
  {
   "cell_type": "code",
   "execution_count": 2,
   "metadata": {},
   "outputs": [],
   "source": [
    "# Load data\n",
    "df_main = pd.ExcelFile('SPX&MSFT_1990-2020_USD.xlsx')\n",
    "df_spx = pd.read_excel(df_main, 'S&P500')\n",
    "df_mfst = pd.read_excel(df_main, 'Microsoft')"
   ]
  },
  {
   "cell_type": "code",
   "execution_count": 3,
   "metadata": {
    "scrolled": true
   },
   "outputs": [
    {
     "data": {
      "text/html": [
       "<div>\n",
       "<style scoped>\n",
       "    .dataframe tbody tr th:only-of-type {\n",
       "        vertical-align: middle;\n",
       "    }\n",
       "\n",
       "    .dataframe tbody tr th {\n",
       "        vertical-align: top;\n",
       "    }\n",
       "\n",
       "    .dataframe thead th {\n",
       "        text-align: right;\n",
       "    }\n",
       "</style>\n",
       "<table border=\"1\" class=\"dataframe\">\n",
       "  <thead>\n",
       "    <tr style=\"text-align: right;\">\n",
       "      <th></th>\n",
       "      <th>MFST</th>\n",
       "      <th>SPX</th>\n",
       "    </tr>\n",
       "    <tr>\n",
       "      <th>Date</th>\n",
       "      <th></th>\n",
       "      <th></th>\n",
       "    </tr>\n",
       "  </thead>\n",
       "  <tbody>\n",
       "    <tr>\n",
       "      <th>1990-01-02</th>\n",
       "      <td>0.6163</td>\n",
       "      <td>359.69</td>\n",
       "    </tr>\n",
       "    <tr>\n",
       "      <th>1990-01-03</th>\n",
       "      <td>0.6198</td>\n",
       "      <td>358.76</td>\n",
       "    </tr>\n",
       "    <tr>\n",
       "      <th>1990-01-04</th>\n",
       "      <td>0.6380</td>\n",
       "      <td>355.67</td>\n",
       "    </tr>\n",
       "    <tr>\n",
       "      <th>1990-01-05</th>\n",
       "      <td>0.6224</td>\n",
       "      <td>352.20</td>\n",
       "    </tr>\n",
       "    <tr>\n",
       "      <th>1990-01-08</th>\n",
       "      <td>0.6319</td>\n",
       "      <td>353.79</td>\n",
       "    </tr>\n",
       "  </tbody>\n",
       "</table>\n",
       "</div>"
      ],
      "text/plain": [
       "              MFST     SPX\n",
       "Date                      \n",
       "1990-01-02  0.6163  359.69\n",
       "1990-01-03  0.6198  358.76\n",
       "1990-01-04  0.6380  355.67\n",
       "1990-01-05  0.6224  352.20\n",
       "1990-01-08  0.6319  353.79"
      ]
     },
     "execution_count": 3,
     "metadata": {},
     "output_type": "execute_result"
    }
   ],
   "source": [
    "#concatenate series and clean up index \n",
    "df_complete = pd.concat([df_mfst, df_spx], axis=1)\n",
    "df_complete.columns = ['Date','MFST','DATE2','SPX']\n",
    "df_complete = df_complete.drop(['DATE2'],axis=1)\n",
    "df_complete.set_index('Date',inplace=True)\n",
    "df_complete.head(5)"
   ]
  },
  {
   "cell_type": "code",
   "execution_count": 4,
   "metadata": {},
   "outputs": [
    {
     "data": {
      "text/plain": [
       "MFST    False\n",
       "SPX     False\n",
       "dtype: bool"
      ]
     },
     "execution_count": 4,
     "metadata": {},
     "output_type": "execute_result"
    }
   ],
   "source": [
    "#Check data for NaN(s) \n",
    "df_complete.isnull().any()"
   ]
  },
  {
   "cell_type": "code",
   "execution_count": null,
   "metadata": {},
   "outputs": [],
   "source": []
  },
  {
   "cell_type": "markdown",
   "metadata": {},
   "source": [
    "### Question 1\n",
    "* Construct daily log-returns for the two price series; the return series of the S&P 500 is hereafter denoted by $R_{1t}$, and the return series of the Microsoft stock by $R_{2t}$.\n",
    "* Present and describe / discuss the descriptive statistics (mean, standard deviation, skewness, kurtosis) of both return series."
   ]
  },
  {
   "cell_type": "code",
   "execution_count": 5,
   "metadata": {},
   "outputs": [
    {
     "data": {
      "text/html": [
       "<div>\n",
       "<style scoped>\n",
       "    .dataframe tbody tr th:only-of-type {\n",
       "        vertical-align: middle;\n",
       "    }\n",
       "\n",
       "    .dataframe tbody tr th {\n",
       "        vertical-align: top;\n",
       "    }\n",
       "\n",
       "    .dataframe thead th {\n",
       "        text-align: right;\n",
       "    }\n",
       "</style>\n",
       "<table border=\"1\" class=\"dataframe\">\n",
       "  <thead>\n",
       "    <tr style=\"text-align: right;\">\n",
       "      <th></th>\n",
       "      <th>MFST</th>\n",
       "      <th>SPX</th>\n",
       "    </tr>\n",
       "    <tr>\n",
       "      <th>Date</th>\n",
       "      <th></th>\n",
       "      <th></th>\n",
       "    </tr>\n",
       "  </thead>\n",
       "  <tbody>\n",
       "    <tr>\n",
       "      <th>1990-01-03</th>\n",
       "      <td>0.005663</td>\n",
       "      <td>-0.002589</td>\n",
       "    </tr>\n",
       "    <tr>\n",
       "      <th>1990-01-04</th>\n",
       "      <td>0.028941</td>\n",
       "      <td>-0.008650</td>\n",
       "    </tr>\n",
       "    <tr>\n",
       "      <th>1990-01-05</th>\n",
       "      <td>-0.024755</td>\n",
       "      <td>-0.009804</td>\n",
       "    </tr>\n",
       "    <tr>\n",
       "      <th>1990-01-08</th>\n",
       "      <td>0.015148</td>\n",
       "      <td>0.004504</td>\n",
       "    </tr>\n",
       "    <tr>\n",
       "      <th>1990-01-09</th>\n",
       "      <td>-0.002694</td>\n",
       "      <td>-0.011857</td>\n",
       "    </tr>\n",
       "  </tbody>\n",
       "</table>\n",
       "</div>"
      ],
      "text/plain": [
       "                MFST       SPX\n",
       "Date                          \n",
       "1990-01-03  0.005663 -0.002589\n",
       "1990-01-04  0.028941 -0.008650\n",
       "1990-01-05 -0.024755 -0.009804\n",
       "1990-01-08  0.015148  0.004504\n",
       "1990-01-09 -0.002694 -0.011857"
      ]
     },
     "execution_count": 5,
     "metadata": {},
     "output_type": "execute_result"
    }
   ],
   "source": [
    "#convert the concatenated dataframe to daily log-returns\n",
    "df_comp_log = np.log(df_complete / df_complete.shift(1))\n",
    "\n",
    "#remove 1990-01-02 observation as now NaN (1st location) \n",
    "df_comp_log = df_comp_log.dropna() \n",
    "\n",
    "## show head \n",
    "df_comp_log.head()"
   ]
  },
  {
   "cell_type": "code",
   "execution_count": 6,
   "metadata": {},
   "outputs": [
    {
     "name": "stdout",
     "output_type": "stream",
     "text": [
      "              MFST          SPX\n",
      "count  7593.000000  7593.000000\n",
      "mean      0.000748     0.000294\n",
      "std       0.019889     0.010969\n",
      "min      -0.169578    -0.094695\n",
      "25%      -0.009021    -0.004309\n",
      "50%       0.000298     0.000545\n",
      "75%       0.010474     0.005528\n",
      "max       0.178692     0.109572\n",
      "skew      0.007768    -0.267897\n",
      "kurt      5.996909     8.870035\n"
     ]
    }
   ],
   "source": [
    "#Summary Statistics \n",
    "stat = df_comp_log.describe()\n",
    "stat.loc['skew'] = df_comp_log.skew().tolist()\n",
    "stat.loc['kurt'] = df_comp_log.kurtosis().tolist()\n",
    "print(stat)"
   ]
  },
  {
   "cell_type": "markdown",
   "metadata": {},
   "source": [
    "## Discussion:"
   ]
  },
  {
   "cell_type": "markdown",
   "metadata": {},
   "source": [
    "* The table above shows the descriptive statistics of both the Microsoft and S&P 500 returns. It shows that the mean of returns for both of the assets is very close to zero. However, the standard deviation, skewness and kurtosis can provide more insight. Under normality, skewness should be 0 and kurtosis should be 3. In line with the stylsed facts of asset returns, these returns are not normally distributed measured at the daily level: note this would be they do not conform to the log-normal assumption as these are the logs of the returns. This is most prominent in the kurtosis, which explains the tails of the distribution adn measures the outliers present in the distribution. \n",
    "* Also notaworthy is that the volatility of Microsoft is almost twice as high as for S&P 500. This makes sense because the S&P 500 returns are a lot more diversified by being the index, which is in itself a diversified portfolio of different stocks that also includes Microsoft\n",
    "* The table shows that the S&P 500 returns are (moderately) negatively skewed, meaning that negative returns are more likely to happen than positive returns. Microsoft's skewness is close to zero, so fairly neglectible. Furthermore, S&P 500 has higher kurtosis than Microsoft. This means that the S&P 500 return distribution is more heavy-tailed than Microsoft's distribution. Both have a kurtosis higher than the kurtosis of 3, meaning they are more heavy-tailed than normal the distribution. Once again, this is not surprising as stock returns are known to be non-normal."
   ]
  },
  {
   "cell_type": "markdown",
   "metadata": {},
   "source": [
    "*  Considering the results from 1., fit an appropriate probability distribution 𝐹1 and 𝐹2 to the standardized daily log returns of both return series. For fitting the distribution you may consider the Python package ‘Scipy.stats’. Alternatively, minimize the distance between the empirical CDF of 𝑅1𝑡 and 𝑅2𝑡, and the CDF of the fitted distributions 𝐹1 and 𝐹2 by optimizing the parameters of the distributions. Elaborate on your choice of distribution. \n",
    " \n",
    "* Plot the results, comparing the fitted cumulative distribution function of the distributions with the empirical cumulative distribution function of both return series. "
   ]
  },
  {
   "cell_type": "code",
   "execution_count": null,
   "metadata": {},
   "outputs": [],
   "source": []
  },
  {
   "cell_type": "markdown",
   "metadata": {},
   "source": [
    "### Question 2\n",
    "* Considering the results from Question 1, fit appropriate probability distributions $F_1$ and $F_2$ to both daily log returns series. For fitting the distribution, you may consider the Python package `scipy.stats`. Alternatively, minimize the distance between the empirical CDF of $𝑅_{1𝑡}$ and $𝑅_{2𝑡}$, and the CDF of the fitted distributions $𝐹_1$ and $𝐹_2$ by optimizing the parameters of the distributions. Elaborate on your choice of distribution.\n",
    "* Plot the results, comparing the fitted cumulative distribution functions of the Normal distributions with the empirical cumulative distribution function of both return series."
   ]
  },
  {
   "cell_type": "code",
   "execution_count": 7,
   "metadata": {},
   "outputs": [],
   "source": [
    "#define log series names \n",
    "lret_mfst = df_comp_log['MFST']\n",
    "lret_spx = df_comp_log['SPX']"
   ]
  },
  {
   "cell_type": "markdown",
   "metadata": {},
   "source": [
    "### MFST "
   ]
  },
  {
   "cell_type": "code",
   "execution_count": 8,
   "metadata": {},
   "outputs": [
    {
     "name": "stderr",
     "output_type": "stream",
     "text": [
      "C:\\Users\\jason\\Anaconda3\\lib\\site-packages\\scipy\\stats\\_distn_infrastructure.py:2316: RuntimeWarning: invalid value encountered in double_scalars\n",
      "  Lhat = muhat - Shat*mu\n"
     ]
    },
    {
     "data": {
      "image/png": "[encoded data removed]",
      "text/plain": [
       "<Figure size 1152x504 with 3 Axes>"
      ]
     },
     "metadata": {
      "needs_background": "light"
     },
     "output_type": "display_data"
    }
   ],
   "source": [
    "## MFST Distribution Histograms \n",
    "## KDE = False, fits are: normal, student's-t distribution and skewed student's t-dist \n",
    "fig, ax, = plt.subplots(ncols=3,figsize=(16,7))\n",
    "\n",
    "sns.distplot(lret_mfst, kde=False, fit=stats.norm,ax=ax[0])\n",
    "ax[0].set_title('Histogram: MFST Vs. Normal Distribution')\n",
    "\n",
    "sns.distplot(lret_mfst, kde=False, fit=stats.t,ax=ax[1])\n",
    "ax[1].set_title(\"Histogram: MFST Vs. Student's t Distribution\")\n",
    "\n",
    "sns.distplot(lret_mfst, kde=False, fit=stats.nct,ax=ax[2])\n",
    "ax[2].set_title(\"Histogram: MFST Vs. Skewed student's t Distribution\")\n",
    "\n",
    "plt.tight_layout()"
   ]
  },
  {
   "cell_type": "markdown",
   "metadata": {},
   "source": [
    "#### SPX\n",
    "* Repeat for index series"
   ]
  },
  {
   "cell_type": "code",
   "execution_count": 9,
   "metadata": {},
   "outputs": [
    {
     "data": {
      "image/png": "[encoded data removed]",
      "text/plain": [
       "<Figure size 1152x504 with 3 Axes>"
      ]
     },
     "metadata": {
      "needs_background": "light"
     },
     "output_type": "display_data"
    }
   ],
   "source": [
    "## SPX Distribution Histograms \n",
    "fig, ax, = plt.subplots(ncols=3,figsize=(16,7))\n",
    "sns.distplot(lret_spx, kde=False, fit=stats.norm,ax=ax[0])\n",
    "ax[0].set_title('Histogram: SPX Vs. Normal Distribution')\n",
    "sns.distplot(lret_spx, kde=False, fit=stats.t,ax=ax[1])\n",
    "ax[1].set_title(\"Histogram: SPX Vs. Student's t Distribution\")\n",
    "sns.distplot(lret_spx, kde=False, fit=stats.nct,ax=ax[2])\n",
    "ax[2].set_title(\"Histogram: SPX Vs. Skewed student's t Distribution\")\n",
    "plt.tight_layout()"
   ]
  },
  {
   "cell_type": "markdown",
   "metadata": {},
   "source": [
    "### MFST QQ PLOTS"
   ]
  },
  {
   "cell_type": "code",
   "execution_count": 10,
   "metadata": {},
   "outputs": [
    {
     "data": {
      "image/png": "[encoded data removed]",
      "text/plain": [
       "<Figure size 1152x504 with 3 Axes>"
      ]
     },
     "metadata": {
      "needs_background": "light"
     },
     "output_type": "display_data"
    }
   ],
   "source": [
    "#MFST QQ Plots \n",
    "fig, ax, = plt.subplots(ncols=3,figsize=(16,7))\n",
    "sm.qqplot(lret_mfst, dist=stats.norm, fit=True, line='45',ax=ax[0])\n",
    "ax[0].set_title('MSFT distribution Vs Normal distribution')\n",
    "sm.qqplot(lret_mfst, dist=stats.t, fit=True, line='45',ax=ax[1])\n",
    "ax[1].set_title(\"MSFT distribution Vs Student's t distribution\")\n",
    "sm.qqplot(lret_mfst, dist=stats.nct, fit=True, line='45',ax=ax[2])\n",
    "ax[2].set_title(\"MSFT distribution Vs Skewed student's t distribution\")\n",
    "plt.tight_layout()"
   ]
  },
  {
   "cell_type": "markdown",
   "metadata": {},
   "source": [
    "### SPX QQ PLOTS"
   ]
  },
  {
   "cell_type": "code",
   "execution_count": 11,
   "metadata": {},
   "outputs": [
    {
     "data": {
      "image/png": "[encoded data removed]",
      "text/plain": [
       "<Figure size 1152x504 with 3 Axes>"
      ]
     },
     "metadata": {
      "needs_background": "light"
     },
     "output_type": "display_data"
    }
   ],
   "source": [
    "#SPX QQ Plots \n",
    "fig, ax, = plt.subplots(ncols=3,figsize=(16,7))\n",
    "sm.qqplot(lret_spx, dist=stats.norm, fit=True, line='45',ax=ax[0])\n",
    "ax[0].set_title('SPX distribution Vs Normal distribution')\n",
    "sm.qqplot(lret_spx, dist=stats.t, fit=True, line='45',ax=ax[1])\n",
    "ax[1].set_title(\"SPX distribution Vs Student's t distribution\")\n",
    "sm.qqplot(lret_spx, dist=stats.nct, fit=True, line='45',ax=ax[2])\n",
    "ax[2].set_title(\"SPX distribution Vs Skewed student's t distribution\")\n",
    "plt.tight_layout()"
   ]
  },
  {
   "cell_type": "code",
   "execution_count": 12,
   "metadata": {},
   "outputs": [
    {
     "name": "stdout",
     "output_type": "stream",
     "text": [
      "stat=11359.873, p=0.000\n",
      "MFST: Assumed to not be Gaussian/Normal\n"
     ]
    }
   ],
   "source": [
    "#Normality test (skewness and kurtosis matching a normal distribution) for Microsoft returns:\n",
    "stat_mfst, p_mfst = stats.jarque_bera(lret_mfst) \n",
    "print('stat=%.3f, p=%.3f' % (stat_mfst, p_mfst))\n",
    "\n",
    "## check the p-value on the statistic\n",
    "if p_mfst > 0.05:\n",
    " print('MFST: Assumed to be Gaussian/Normal')\n",
    "else:\n",
    " print('MFST: Assumed to not be Gaussian/Normal')\n",
    "#stats.jarque_bera(lret_mfst) "
   ]
  },
  {
   "cell_type": "code",
   "execution_count": 13,
   "metadata": {},
   "outputs": [
    {
     "name": "stdout",
     "output_type": "stream",
     "text": [
      "stat=24945.189, p=0.000\n",
      "SPX: Assumed to not be Gaussian/Normal\n"
     ]
    }
   ],
   "source": [
    "#Normality test (skewness and kurtosis matching a normal distribution) for SPX returns:\n",
    "stat_spx, p_spx = stats.jarque_bera(lret_spx) \n",
    "print('stat=%.3f, p=%.3f' % (stat_spx, p_spx))\n",
    "if p_spx > 0.05:\n",
    " print('SPX: Assumed to be Gaussian/Normal')\n",
    "else:\n",
    " print('SPX: Assumed to not be Gaussian/Normal')"
   ]
  },
  {
   "cell_type": "markdown",
   "metadata": {},
   "source": [
    "## Discussion Question 2:"
   ]
  },
  {
   "cell_type": "markdown",
   "metadata": {},
   "source": [
    "1. To see what distribution would fit the data best, we first visualize the distributions by a histogram and QQ-plot. We see that for Microsoft that the normal distribution does not fit well. The histogram shows that the return distribution is more sharply peaked than for a normal distribution and the QQ-plot shows that its tails are also more heavy than in a normal distribution would be. We find the same results for the S&P 500 return distribution. When we visualize the data against a skewed t-distribution, we see two things. For Microsoft we see through the QQ-plot that it fits the left tail better, but the left tail worse compared to standard student's t distribution. For the S&P 500 data we see exactly the opposite. A skewed sudent's t distribution has therefore no additional value and we choose between the normal and standard student's t distribution.\n",
    "\n",
    "* We test for normality of the data by using a Jarque-Bera test and find that the Null hypothesis is rejected for both assets. This means normality is rejected and we therefore based off the two methods, choose to fit the data with a t-distribution.\n"
   ]
  },
  {
   "cell_type": "markdown",
   "metadata": {},
   "source": [
    "### Question 3\n",
    "Assume you have a portfolio with equal weights in both the index and the stock.\n",
    "* Determine the sample correlation between the two return series based on the data.\n",
    "* Use the copula function of the Normal distribution to generate 50,000 correlated pairs $(u_{1i},u_{2i}), i=1,\\ldots,50,000$, from the uniform (copula) distribution  using the calculated correlation coefficient (for this, you may use Python packages such as `Copulae` or `PyCopula`). \n",
    "* Transform the uniform numbers generated by the copula function to returns using the inverse of the fitted cumulative distribution functions $F_1$ and $F_2$.\n",
    "* Determine the 1-day 1% Value at Risk of the portfolio.\n",
    "* Next, consider the index and stock on a standalone basis. Calculate the 1-day 1% Value at Risk using 50,000 simulated returns for both the S&P 500 and the stock. What is the impact of diversification in this portfolio? This can be examined by calculating the 1-day 1% VaR of the single return series, and comparing with the 1-day 1% VaR of the combined portfolio."
   ]
  },
  {
   "cell_type": "markdown",
   "metadata": {},
   "source": [
    "#### Step 1: Fit a GARCH model for the standardised shocks"
   ]
  },
  {
   "cell_type": "code",
   "execution_count": 14,
   "metadata": {},
   "outputs": [
    {
     "name": "stdout",
     "output_type": "stream",
     "text": [
      "Iteration:      1,   Func. Count:      6,   Neg. LLF: 15189.720576479187\n",
      "Iteration:      2,   Func. Count:     17,   Neg. LLF: 15180.153360437855\n",
      "Iteration:      3,   Func. Count:     27,   Neg. LLF: 15180.07797193695\n",
      "Iteration:      4,   Func. Count:     37,   Neg. LLF: 15180.069841305078\n",
      "Iteration:      5,   Func. Count:     44,   Neg. LLF: 15177.447715396185\n",
      "Iteration:      6,   Func. Count:     51,   Neg. LLF: 15175.79875118812\n",
      "Iteration:      7,   Func. Count:     58,   Neg. LLF: 15174.28401407324\n",
      "Iteration:      8,   Func. Count:     65,   Neg. LLF: 15173.69979345532\n",
      "Iteration:      9,   Func. Count:     71,   Neg. LLF: 15173.291621451037\n",
      "Iteration:     10,   Func. Count:     77,   Neg. LLF: 15173.063195681436\n",
      "Iteration:     11,   Func. Count:     83,   Neg. LLF: 15173.03572592825\n",
      "Iteration:     12,   Func. Count:     89,   Neg. LLF: 15173.02984568741\n",
      "Iteration:     13,   Func. Count:     95,   Neg. LLF: 15173.029721414168\n",
      "Optimization terminated successfully.    (Exit mode 0)\n",
      "            Current function value: 15173.029720760109\n",
      "            Iterations: 13\n",
      "            Function evaluations: 96\n",
      "            Gradient evaluations: 13\n"
     ]
    }
   ],
   "source": [
    "#Fitting a normal GARCH\n",
    "#MFST\n",
    "returns_mfst = df_comp_log['MFST'] * 100   #using the log but *100\n",
    "\n",
    "## fit the arch model\n",
    "arch_1 = arch_model(returns_mfst, \n",
    "                    vol='Garch',\n",
    "                    p=1,o=0,q=1, \n",
    "                    dist='Normal')\n",
    "\n",
    "arch1_res = arch_1.fit()\n",
    "\n",
    "## define the residual / conditional volatility and standardised shocks series respectively\n",
    "arch_1_res = arch1_res.resid\n",
    "arch_1_hsq = arch1_res.conditional_volatility\n",
    "mfst_arch_1_zt = returns_mfst / arch_1_hsq"
   ]
  },
  {
   "cell_type": "code",
   "execution_count": 15,
   "metadata": {},
   "outputs": [
    {
     "name": "stdout",
     "output_type": "stream",
     "text": [
      "Iteration:      1,   Func. Count:      6,   Neg. LLF: 9926.284648599867\n",
      "Iteration:      2,   Func. Count:     17,   Neg. LLF: 9920.7180749123\n",
      "Iteration:      3,   Func. Count:     26,   Neg. LLF: 9917.242755746298\n",
      "Iteration:      4,   Func. Count:     35,   Neg. LLF: 9917.152809178173\n",
      "Iteration:      5,   Func. Count:     42,   Neg. LLF: 9913.99021972904\n",
      "Iteration:      6,   Func. Count:     49,   Neg. LLF: 9912.572477413705\n",
      "Iteration:      7,   Func. Count:     56,   Neg. LLF: 9911.49215156969\n",
      "Iteration:      8,   Func. Count:     63,   Neg. LLF: 9911.286316474661\n",
      "Iteration:      9,   Func. Count:     69,   Neg. LLF: 9911.109985057108\n",
      "Iteration:     10,   Func. Count:     75,   Neg. LLF: 9910.810763432004\n",
      "Iteration:     11,   Func. Count:     81,   Neg. LLF: 9910.80785792118\n",
      "Iteration:     12,   Func. Count:     87,   Neg. LLF: 9910.80783781318\n",
      "Optimization terminated successfully.    (Exit mode 0)\n",
      "            Current function value: 9910.807837809405\n",
      "            Iterations: 12\n",
      "            Function evaluations: 87\n",
      "            Gradient evaluations: 12\n"
     ]
    }
   ],
   "source": [
    "## repeat for SPX\n",
    "returns_spx = df_comp_log['SPX'] * 100   #using the log but *100\n",
    "\n",
    "arch_2 = arch_model(returns_spx, \n",
    "                    vol='Garch',\n",
    "                    p=1,o=0,q=1, \n",
    "                    dist='Normal')\n",
    "\n",
    "arch2_res = arch_2.fit()\n",
    "arch_2_res = arch2_res.resid\n",
    "arch_2_hsq = arch2_res.conditional_volatility\n",
    "spx_arch_2_zt = returns_spx / arch_2_hsq"
   ]
  },
  {
   "cell_type": "code",
   "execution_count": null,
   "metadata": {},
   "outputs": [],
   "source": []
  },
  {
   "cell_type": "code",
   "execution_count": 16,
   "metadata": {},
   "outputs": [],
   "source": [
    "## zip together so that the shapes will fit for the copulae function\n",
    "arch_zt_df = pd.DataFrame(list(zip(mfst_arch_1_zt, spx_arch_2_zt)),columns=['MFST','SPX'])"
   ]
  },
  {
   "cell_type": "code",
   "execution_count": 17,
   "metadata": {
    "scrolled": false
   },
   "outputs": [
    {
     "data": {
      "text/html": [
       "\n",
       "<div>\n",
       "    <h2>Gaussian Copula Summary</h2>\n",
       "    <div>Gaussian Copula with 2 dimensions</div>\n",
       "    <hr/>\n",
       "    <div>\n",
       "        <h3>Parameters</h3>\n",
       "        <strong>Correlation Matrix</strong><table border=\"1\" class=\"dataframe\">\n",
       "  <tbody>\n",
       "    <tr>\n",
       "      <td>1.000000</td>\n",
       "      <td>0.627855</td>\n",
       "    </tr>\n",
       "    <tr>\n",
       "      <td>0.627855</td>\n",
       "      <td>1.000000</td>\n",
       "    </tr>\n",
       "  </tbody>\n",
       "</table>\n",
       "    </div>\n",
       "    \n",
       "<div>\n",
       "    <h3>Fit Summary</h2>\n",
       "    <hr/>\n",
       "    <table>\n",
       "        <tr><th colspan=\"2\">Fit Summary</th></tr>\n",
       "        <tr><td>Log Likelihood</td><td>-1898.3688741432595</td></tr>\n",
       "        <tr><td>Variance Estimate</td><td>Not Implemented Yet</td></tr>\n",
       "        <tr><td>Method</td><td>Maximum pseudo-likelihood</td></tr>\n",
       "        <tr><td>Data Points</td><td>7593</td></tr>\n",
       "    </table>\n",
       "    <br/>\n",
       "    <table>\n",
       "        <tr><th colspan=\"2\">Optimization Setup</th><th colspan=\"2\">Results</th></tr>\n",
       "        <tr><td>bounds</td><td>[(-1.0, 1.0)]</td><td>x</td><td>[0.62785452]</td></tr><tr><td>options</td><td>{'maxiter': 20000, 'ftol': 1e-06, 'iprint': 1, 'disp': False, 'eps': 1.5e-08}</td><td>fun</td><td>-1898.3688741432595</td></tr><tr><td>method</td><td>SLSQP</td><td>jac</td><td>[-0.00180383]</td></tr><tr><td>None</td><td>None</td><td>nit</td><td>4</td></tr><tr><td>None</td><td>None</td><td>nfev</td><td>14</td></tr><tr><td>None</td><td>None</td><td>njev</td><td>4</td></tr><tr><td>None</td><td>None</td><td>status</td><td>0</td></tr><tr><td>None</td><td>None</td><td>message</td><td>Optimization terminated successfully.</td></tr><tr><td>None</td><td>None</td><td>success</td><td>True</td></tr>\n",
       "    </table>\n",
       "</div>\n",
       "        \n",
       "</div>\n"
      ],
      "text/plain": [
       "Gaussian Copula Summary\n",
       "================================================================================\n",
       "Gaussian Copula with 2 dimensions\n",
       "\n",
       "\n",
       "Parameters\n",
       "--------------------------------------------------------------------------------\n",
       " Correlation Matrix \n",
       " 1.000000  0.627855\n",
       " 0.627855  1.000000\n",
       "\n",
       "\n",
       "\n",
       "                                  Fit Summary                                   \n",
       "================================================================================\n",
       "Log. Likelihood      : -1898.3688741432595\n",
       "Variance Estimate    : Not Implemented Yet\n",
       "Method               : Maximum pseudo-likelihood\n",
       "Data Points          : 7593\n",
       "\n",
       "Optimization Setup\n",
       "--------------------------------------------------------------------------------\n",
       "\tbounds         : [(-1.0, 1.0)]\n",
       "\toptions        : {'maxiter': 20000, 'ftol': 1e-06, 'iprint': 1, 'disp': False, 'eps': 1.5e-08}\n",
       "\tmethod         : SLSQP\n",
       "\n",
       "Results\n",
       "--------------------------------------------------------------------------------\n",
       "\tx              : [0.62785452]\n",
       "\tfun            : -1898.3688741432595\n",
       "\tjac            : [-0.00180383]\n",
       "\tnit            : 4\n",
       "\tnfev           : 14\n",
       "\tnjev           : 4\n",
       "\tstatus         : 0\n",
       "\tmessage        : Optimization terminated successfully.\n",
       "\tsuccess        : True"
      ]
     },
     "execution_count": 17,
     "metadata": {},
     "output_type": "execute_result"
    }
   ],
   "source": [
    "_, ndim = arch_zt_df.shape\n",
    "\n",
    "## def dim = number of dimensions in the df.shape\n",
    "g_cop_arch = GaussianCopula(dim=ndim)\n",
    "\n",
    "## fit copulae model and show summary\n",
    "g_cop_arch.fit(arch_zt_df)\n",
    "g_cop_arch.summary()"
   ]
  },
  {
   "cell_type": "code",
   "execution_count": 18,
   "metadata": {},
   "outputs": [
    {
     "data": {
      "text/plain": [
       "array([0.62785452])"
      ]
     },
     "execution_count": 18,
     "metadata": {},
     "output_type": "execute_result"
    }
   ],
   "source": [
    "arch_cop_params = g_cop_arch.params\n",
    "arch_cop_params"
   ]
  },
  {
   "cell_type": "code",
   "execution_count": 19,
   "metadata": {},
   "outputs": [],
   "source": [
    "#check correlations \n",
    "## NOTE:  spearman correlation is non-parametric \n",
    "arch_zt_df_ken = arch_zt_df.corr(method='kendall')\n",
    "arch_zt_df_pear = arch_zt_df.corr(method='pearson')\n",
    "arch_zt_df_spear = arch_zt_df.corr(method='spearman')"
   ]
  },
  {
   "cell_type": "code",
   "execution_count": 20,
   "metadata": {},
   "outputs": [
    {
     "name": "stdout",
     "output_type": "stream",
     "text": [
      "Copula Parameter approximately matches correlation implied by spearman correlation measure\n",
      "Copula Parameter does not match correlation implied by Kendall measure\n",
      "Copula Parameter does not match correlation implied by Pearson measure\n"
     ]
    }
   ],
   "source": [
    "#Test if correlation matches copula within 2.5% error margin \n",
    "\n",
    "if np.isclose(arch_cop_params[0], arch_zt_df_spear.iloc[0,1],rtol=0.025)== True:\n",
    "    print(\"Copula Parameter approximately matches correlation implied by spearman correlation measure\")\n",
    "    \n",
    "elif np.isclose(arch_cop_params[0], arch_zt_df_spear.iloc[0,1],rtol=0.025)!= True:\n",
    "    print(\"Copula Parameter does not match correlation implied by Spearman\")\n",
    "    \n",
    "if np.isclose(arch_cop_params[0], arch_zt_df_ken.iloc[0,1],rtol=0.025)== True:\n",
    "    print(\"Copula Parameter approximately matches correlation implied by Kendall correlation measure\")\n",
    "    \n",
    "elif np.isclose(arch_cop_params[0], arch_zt_df_ken.iloc[0,1],rtol=0.025)!= True:\n",
    "    print(\"Copula Parameter does not match correlation implied by Kendall measure\")\n",
    "    \n",
    "if np.isclose(arch_cop_params[0], arch_zt_df_pear.iloc[0,1],rtol=0.025)== True:\n",
    "    print(\"Copula Parameter approximately matches correlation implied by Pearson correlation measure\")\n",
    "    \n",
    "elif np.isclose(arch_cop_params[0], arch_zt_df_pear.iloc[0,1],rtol=0.025)!= True:\n",
    "    print(\"Copula Parameter does not match correlation implied by Pearson measure\")"
   ]
  },
  {
   "cell_type": "markdown",
   "metadata": {},
   "source": [
    "* The rejection of the pearson measure is consistent with our expectations as the two series have different respective variances\n",
    "* The rejection of the Kendall measure (the statistic is used to measure ordinal association and is closest to 1 when the observations have similar or identical rank correlation) this would perhaps imply the degree of correlation isn't so extreme that it can't be better captured by another measure\n",
    "* The matching implied by the spearman measure- a non-parametric measure of rank correlation- is consistent with some expected underlying notions of the data, such as:  monotonic relationship seems likely between the stock and its index- which is confirmed by the approximate match here. Additionally, unlike the pearson measure, there is no required linearity"
   ]
  },
  {
   "cell_type": "code",
   "execution_count": 21,
   "metadata": {},
   "outputs": [],
   "source": [
    "## generate 50k random samples\n",
    "copula_samples = g_cop_arch.random(50000)"
   ]
  },
  {
   "cell_type": "code",
   "execution_count": 22,
   "metadata": {},
   "outputs": [],
   "source": [
    "#arch_ppf \n",
    "arch_ppf = g_cop_arch.pdf(copula_samples)"
   ]
  },
  {
   "cell_type": "code",
   "execution_count": 23,
   "metadata": {},
   "outputs": [],
   "source": [
    "#arch_cdf\n",
    "arch_cdf = g_cop_arch.cdf(copula_samples)"
   ]
  },
  {
   "cell_type": "code",
   "execution_count": 24,
   "metadata": {},
   "outputs": [],
   "source": [
    "arch_norm_cdf = stats.norm.cdf(copula_samples)"
   ]
  },
  {
   "cell_type": "code",
   "execution_count": 25,
   "metadata": {},
   "outputs": [],
   "source": [
    "arch_norm_ppf = stats.norm.ppf(arch_norm_cdf)"
   ]
  },
  {
   "cell_type": "code",
   "execution_count": 26,
   "metadata": {},
   "outputs": [],
   "source": [
    "copula_norm = stats.norm.ppf(copula_samples)"
   ]
  },
  {
   "cell_type": "code",
   "execution_count": 27,
   "metadata": {},
   "outputs": [],
   "source": [
    "#Weights: 50% equally \n",
    "weights = [[0.5],[0.5]]"
   ]
  },
  {
   "cell_type": "code",
   "execution_count": 28,
   "metadata": {},
   "outputs": [
    {
     "name": "stdout",
     "output_type": "stream",
     "text": [
      "0.019887191374358414 0.010967799244958618\n"
     ]
    }
   ],
   "source": [
    "#standard deviations of original returns (log)\n",
    "stddev_mfst = np.std(df_comp_log['MFST'])\n",
    "stddev_spx = np.std(df_comp_log['SPX'])\n",
    "print(stddev_mfst, stddev_spx)"
   ]
  },
  {
   "cell_type": "code",
   "execution_count": 29,
   "metadata": {},
   "outputs": [],
   "source": [
    "split_copnorm = pd.DataFrame(copula_norm)\n",
    "split_copnorm.columns = ['MFST_1','SPX_1']"
   ]
  },
  {
   "cell_type": "code",
   "execution_count": 30,
   "metadata": {},
   "outputs": [
    {
     "data": {
      "text/html": [
       "<div>\n",
       "<style scoped>\n",
       "    .dataframe tbody tr th:only-of-type {\n",
       "        vertical-align: middle;\n",
       "    }\n",
       "\n",
       "    .dataframe tbody tr th {\n",
       "        vertical-align: top;\n",
       "    }\n",
       "\n",
       "    .dataframe thead th {\n",
       "        text-align: right;\n",
       "    }\n",
       "</style>\n",
       "<table border=\"1\" class=\"dataframe\">\n",
       "  <thead>\n",
       "    <tr style=\"text-align: right;\">\n",
       "      <th></th>\n",
       "      <th>MFST_1</th>\n",
       "      <th>SPX_1</th>\n",
       "      <th>MFST_STD_DEV</th>\n",
       "      <th>SPX_STD_DEV</th>\n",
       "      <th>MFST_RET*VOL</th>\n",
       "      <th>MFST_WEIGHT</th>\n",
       "      <th>SPX_RET*VOL</th>\n",
       "      <th>SPX_WEIGHT</th>\n",
       "      <th>PORTFOLIO_W_RET</th>\n",
       "    </tr>\n",
       "  </thead>\n",
       "  <tbody>\n",
       "    <tr>\n",
       "      <th>0</th>\n",
       "      <td>-0.380593</td>\n",
       "      <td>-0.587229</td>\n",
       "      <td>0.019887</td>\n",
       "      <td>0.010968</td>\n",
       "      <td>-0.007569</td>\n",
       "      <td>0.5</td>\n",
       "      <td>-0.006441</td>\n",
       "      <td>0.5</td>\n",
       "      <td>-0.007005</td>\n",
       "    </tr>\n",
       "    <tr>\n",
       "      <th>1</th>\n",
       "      <td>0.791014</td>\n",
       "      <td>1.467617</td>\n",
       "      <td>0.019887</td>\n",
       "      <td>0.010968</td>\n",
       "      <td>0.015731</td>\n",
       "      <td>0.5</td>\n",
       "      <td>0.016097</td>\n",
       "      <td>0.5</td>\n",
       "      <td>0.015914</td>\n",
       "    </tr>\n",
       "    <tr>\n",
       "      <th>2</th>\n",
       "      <td>-1.725969</td>\n",
       "      <td>-0.926056</td>\n",
       "      <td>0.019887</td>\n",
       "      <td>0.010968</td>\n",
       "      <td>-0.034325</td>\n",
       "      <td>0.5</td>\n",
       "      <td>-0.010157</td>\n",
       "      <td>0.5</td>\n",
       "      <td>-0.022241</td>\n",
       "    </tr>\n",
       "    <tr>\n",
       "      <th>3</th>\n",
       "      <td>-0.630032</td>\n",
       "      <td>0.624944</td>\n",
       "      <td>0.019887</td>\n",
       "      <td>0.010968</td>\n",
       "      <td>-0.012530</td>\n",
       "      <td>0.5</td>\n",
       "      <td>0.006854</td>\n",
       "      <td>0.5</td>\n",
       "      <td>-0.002838</td>\n",
       "    </tr>\n",
       "    <tr>\n",
       "      <th>4</th>\n",
       "      <td>-0.455691</td>\n",
       "      <td>-1.572006</td>\n",
       "      <td>0.019887</td>\n",
       "      <td>0.010968</td>\n",
       "      <td>-0.009062</td>\n",
       "      <td>0.5</td>\n",
       "      <td>-0.017241</td>\n",
       "      <td>0.5</td>\n",
       "      <td>-0.013152</td>\n",
       "    </tr>\n",
       "  </tbody>\n",
       "</table>\n",
       "</div>"
      ],
      "text/plain": [
       "     MFST_1     SPX_1  MFST_STD_DEV  SPX_STD_DEV  MFST_RET*VOL  MFST_WEIGHT  \\\n",
       "0 -0.380593 -0.587229      0.019887     0.010968     -0.007569          0.5   \n",
       "1  0.791014  1.467617      0.019887     0.010968      0.015731          0.5   \n",
       "2 -1.725969 -0.926056      0.019887     0.010968     -0.034325          0.5   \n",
       "3 -0.630032  0.624944      0.019887     0.010968     -0.012530          0.5   \n",
       "4 -0.455691 -1.572006      0.019887     0.010968     -0.009062          0.5   \n",
       "\n",
       "   SPX_RET*VOL  SPX_WEIGHT  PORTFOLIO_W_RET  \n",
       "0    -0.006441         0.5        -0.007005  \n",
       "1     0.016097         0.5         0.015914  \n",
       "2    -0.010157         0.5        -0.022241  \n",
       "3     0.006854         0.5        -0.002838  \n",
       "4    -0.017241         0.5        -0.013152  "
      ]
     },
     "execution_count": 30,
     "metadata": {},
     "output_type": "execute_result"
    }
   ],
   "source": [
    "#Show easy summary, unsorted DataFrame\n",
    "copnorm_vol_adj = split_copnorm\n",
    "copnorm_vol_adj['MFST_STD_DEV'] = stddev_mfst\n",
    "copnorm_vol_adj['SPX_STD_DEV'] = stddev_spx\n",
    "copnorm_vol_adj['MFST_RET*VOL'] = stddev_mfst * split_copnorm['MFST_1']\n",
    "copnorm_vol_adj['MFST_WEIGHT'] = 0.5\n",
    "copnorm_vol_adj['SPX_RET*VOL'] = stddev_spx * split_copnorm['SPX_1']\n",
    "copnorm_vol_adj['SPX_WEIGHT'] = 0.5\n",
    "copnorm_vol_adj['PORTFOLIO_W_RET'] = (copnorm_vol_adj['MFST_WEIGHT'] * copnorm_vol_adj['MFST_RET*VOL']) + (copnorm_vol_adj['SPX_WEIGHT'] * copnorm_vol_adj['SPX_RET*VOL'])\n",
    "copnorm_vol_adj.head()"
   ]
  },
  {
   "cell_type": "code",
   "execution_count": 31,
   "metadata": {
    "scrolled": true
   },
   "outputs": [
    {
     "data": {
      "text/html": [
       "<div>\n",
       "<style scoped>\n",
       "    .dataframe tbody tr th:only-of-type {\n",
       "        vertical-align: middle;\n",
       "    }\n",
       "\n",
       "    .dataframe tbody tr th {\n",
       "        vertical-align: top;\n",
       "    }\n",
       "\n",
       "    .dataframe thead th {\n",
       "        text-align: right;\n",
       "    }\n",
       "</style>\n",
       "<table border=\"1\" class=\"dataframe\">\n",
       "  <thead>\n",
       "    <tr style=\"text-align: right;\">\n",
       "      <th></th>\n",
       "      <th>MFST_1</th>\n",
       "      <th>SPX_1</th>\n",
       "      <th>MFST_STD_DEV</th>\n",
       "      <th>SPX_STD_DEV</th>\n",
       "      <th>MFST_RET*VOL</th>\n",
       "      <th>MFST_WEIGHT</th>\n",
       "      <th>SPX_RET*VOL</th>\n",
       "      <th>SPX_WEIGHT</th>\n",
       "      <th>PORTFOLIO_W_RET</th>\n",
       "    </tr>\n",
       "  </thead>\n",
       "  <tbody>\n",
       "    <tr>\n",
       "      <th>8766</th>\n",
       "      <td>-3.683671</td>\n",
       "      <td>-3.842959</td>\n",
       "      <td>0.019887</td>\n",
       "      <td>0.010968</td>\n",
       "      <td>-0.073258</td>\n",
       "      <td>0.5</td>\n",
       "      <td>-0.042149</td>\n",
       "      <td>0.5</td>\n",
       "      <td>-0.057703</td>\n",
       "    </tr>\n",
       "    <tr>\n",
       "      <th>23471</th>\n",
       "      <td>-4.177067</td>\n",
       "      <td>-2.293179</td>\n",
       "      <td>0.019887</td>\n",
       "      <td>0.010968</td>\n",
       "      <td>-0.083070</td>\n",
       "      <td>0.5</td>\n",
       "      <td>-0.025151</td>\n",
       "      <td>0.5</td>\n",
       "      <td>-0.054111</td>\n",
       "    </tr>\n",
       "    <tr>\n",
       "      <th>19226</th>\n",
       "      <td>-4.190814</td>\n",
       "      <td>-2.194233</td>\n",
       "      <td>0.019887</td>\n",
       "      <td>0.010968</td>\n",
       "      <td>-0.083344</td>\n",
       "      <td>0.5</td>\n",
       "      <td>-0.024066</td>\n",
       "      <td>0.5</td>\n",
       "      <td>-0.053705</td>\n",
       "    </tr>\n",
       "    <tr>\n",
       "      <th>23158</th>\n",
       "      <td>-4.008023</td>\n",
       "      <td>-2.207265</td>\n",
       "      <td>0.019887</td>\n",
       "      <td>0.010968</td>\n",
       "      <td>-0.079708</td>\n",
       "      <td>0.5</td>\n",
       "      <td>-0.024209</td>\n",
       "      <td>0.5</td>\n",
       "      <td>-0.051959</td>\n",
       "    </tr>\n",
       "    <tr>\n",
       "      <th>27401</th>\n",
       "      <td>-3.450878</td>\n",
       "      <td>-3.213647</td>\n",
       "      <td>0.019887</td>\n",
       "      <td>0.010968</td>\n",
       "      <td>-0.068628</td>\n",
       "      <td>0.5</td>\n",
       "      <td>-0.035247</td>\n",
       "      <td>0.5</td>\n",
       "      <td>-0.051937</td>\n",
       "    </tr>\n",
       "  </tbody>\n",
       "</table>\n",
       "</div>"
      ],
      "text/plain": [
       "         MFST_1     SPX_1  MFST_STD_DEV  SPX_STD_DEV  MFST_RET*VOL  \\\n",
       "8766  -3.683671 -3.842959      0.019887     0.010968     -0.073258   \n",
       "23471 -4.177067 -2.293179      0.019887     0.010968     -0.083070   \n",
       "19226 -4.190814 -2.194233      0.019887     0.010968     -0.083344   \n",
       "23158 -4.008023 -2.207265      0.019887     0.010968     -0.079708   \n",
       "27401 -3.450878 -3.213647      0.019887     0.010968     -0.068628   \n",
       "\n",
       "       MFST_WEIGHT  SPX_RET*VOL  SPX_WEIGHT  PORTFOLIO_W_RET  \n",
       "8766           0.5    -0.042149         0.5        -0.057703  \n",
       "23471          0.5    -0.025151         0.5        -0.054111  \n",
       "19226          0.5    -0.024066         0.5        -0.053705  \n",
       "23158          0.5    -0.024209         0.5        -0.051959  \n",
       "27401          0.5    -0.035247         0.5        -0.051937  "
      ]
     },
     "execution_count": 31,
     "metadata": {},
     "output_type": "execute_result"
    }
   ],
   "source": [
    "#Sort data by portfolio weighted returns\n",
    "sorted_cop_voladj = copnorm_vol_adj.sort_values(by='PORTFOLIO_W_RET',\n",
    "                                                ascending=True)\n",
    "\n",
    "sorted_cop_voladj.head()"
   ]
  },
  {
   "cell_type": "code",
   "execution_count": null,
   "metadata": {},
   "outputs": [],
   "source": []
  },
  {
   "cell_type": "markdown",
   "metadata": {},
   "source": [
    "# VaR\n",
    "#### Different method comparisons "
   ]
  },
  {
   "cell_type": "code",
   "execution_count": 32,
   "metadata": {},
   "outputs": [
    {
     "data": {
      "text/plain": [
       "0.03282091084373755"
      ]
     },
     "execution_count": 32,
     "metadata": {},
     "output_type": "execute_result"
    }
   ],
   "source": [
    "#Historical Simulation for 99% Value At Risk\n",
    "VaR_99 = -np.quantile(sorted_cop_voladj['PORTFOLIO_W_RET'], 0.01) \n",
    "VaR_99"
   ]
  },
  {
   "cell_type": "code",
   "execution_count": 33,
   "metadata": {},
   "outputs": [
    {
     "data": {
      "text/plain": [
       "0.032736263055182416"
      ]
     },
     "execution_count": 33,
     "metadata": {},
     "output_type": "execute_result"
    }
   ],
   "source": [
    "mean_pf = copnorm_vol_adj['PORTFOLIO_W_RET'].mean()\n",
    "std_dev_pf = copnorm_vol_adj['PORTFOLIO_W_RET'].std()\n",
    "VaR_99_normd = -stats.norm.ppf(1-0.99, mean_pf, std_dev_pf)\n",
    "VaR_99_normd"
   ]
  },
  {
   "cell_type": "code",
   "execution_count": 34,
   "metadata": {},
   "outputs": [
    {
     "data": {
      "text/plain": [
       "0.032736263055182416"
      ]
     },
     "execution_count": 34,
     "metadata": {},
     "output_type": "execute_result"
    }
   ],
   "source": [
    "#Apply a 2nd method  to ensure the validity of the above VaR method\n",
    "CV_99 = stats.norm.ppf(1-0.99)\n",
    "VaR_portfolio = -mean_pf - std_dev_pf*CV_99\n",
    "VaR_portfolio"
   ]
  },
  {
   "cell_type": "markdown",
   "metadata": {},
   "source": [
    "\n",
    "* Now we consider the index and the stocks on a standalone basis: "
   ]
  },
  {
   "cell_type": "code",
   "execution_count": 35,
   "metadata": {},
   "outputs": [
    {
     "name": "stdout",
     "output_type": "stream",
     "text": [
      "Simulated Students-T VAR for MFST is:  0.07448964610932779\n"
     ]
    }
   ],
   "source": [
    "#Student's T- MFST\n",
    "\n",
    "## number of sims\n",
    "n_sims = 50000\n",
    "\n",
    "## degrees of freedom\n",
    "DOF = 4\n",
    "\n",
    "## define standard deviation\n",
    "std_MFST = np.std(df_comp_log['MFST'])\n",
    "\n",
    "## sim returns based off DOF and n_sims\n",
    "sim_returns_MFST = np.random.standard_t(DOF, n_sims)\n",
    "\n",
    "## calculated simulated student's-T VaR for MFST\n",
    "SimVAR_MFST = -std_MFST*np.percentile(sim_returns_MFST, 1)\n",
    "print('Simulated Students-T VAR for MFST is: ', SimVAR_MFST)"
   ]
  },
  {
   "cell_type": "code",
   "execution_count": 36,
   "metadata": {},
   "outputs": [
    {
     "name": "stdout",
     "output_type": "stream",
     "text": [
      "Simulated Students-T VAR for SPX is:  0.04114347370077373\n"
     ]
    }
   ],
   "source": [
    "#Student's T- SPX\n",
    "n_sims = 50000\n",
    "DOF = 4\n",
    "std_SPX = np.std(df_comp_log['SPX'])\n",
    "sim_returns_SPX = np.random.standard_t(DOF, n_sims)\n",
    "SimVAR_SPX = -std_SPX*np.percentile(sim_returns_SPX, 1)\n",
    "print('Simulated Students-T VAR for SPX is: ', SimVAR_SPX)"
   ]
  },
  {
   "cell_type": "code",
   "execution_count": 37,
   "metadata": {},
   "outputs": [
    {
     "name": "stdout",
     "output_type": "stream",
     "text": [
      "| PRODUCT   |    1% VaR |\n",
      "|-----------+-----------|\n",
      "| Portfolio | 0.0327363 |\n",
      "| MFST      | 0.0744896 |\n",
      "| SPX       | 0.0411435 |\n"
     ]
    }
   ],
   "source": [
    "print(tabulate([['Portfolio',VaR_portfolio],['MFST',SimVAR_MFST],['SPX',SimVAR_SPX],],headers=['PRODUCT','1% VaR'],tablefmt='orgtbl'))"
   ]
  },
  {
   "cell_type": "markdown",
   "metadata": {},
   "source": [
    "## Discussion: Q3 - Portfolio VaR vs Individual Series VaR"
   ]
  },
  {
   "cell_type": "markdown",
   "metadata": {},
   "source": [
    "* We calculated the Spearman's correlation and this gave us a value of 0.6279. We chose the Spearman's correlation because it is more precise for non-normal data than the Pearson's correlation is (as discussed above). \n",
    "\n",
    "* We first determined the 1-day 1% VaR using the Historical Simulation method. This gives us a value of 0.0328. To be able to determine a more precise estimate we also used the Risk Metrics method, but with average portfolio mean and standard deviation. This gives us a value of 0.0327. \n",
    "\n",
    "* For Microsoft we get a seperate VaR estimate of 0.074 and for S&P 500 0.0411: given that SPX is the index and is more diversified than a single equity, these results align with what would be expected. Moreover, crudely approximating these two values leads to an average VaR of ~ 0.0579, which is a lot higher compared to their portfolio VaR of 0.0327."
   ]
  },
  {
   "cell_type": "code",
   "execution_count": null,
   "metadata": {},
   "outputs": [],
   "source": []
  },
  {
   "cell_type": "markdown",
   "metadata": {},
   "source": [
    "### Question 4\n",
    "* Repeat Question 3 using the t-copula density function to generate $(u_{1i},u_{2i})$ (you may use 4 degrees of freedom in the $t$-copula density function, but it may also be possible to fit this parameter by maximum likelihood using `Copulae` or `PyCopula`).\n",
    "* Present the results and explain the main differences with the results from Question 3."
   ]
  },
  {
   "cell_type": "code",
   "execution_count": 38,
   "metadata": {},
   "outputs": [
    {
     "data": {
      "text/html": [
       "<div>\n",
       "<style scoped>\n",
       "    .dataframe tbody tr th:only-of-type {\n",
       "        vertical-align: middle;\n",
       "    }\n",
       "\n",
       "    .dataframe tbody tr th {\n",
       "        vertical-align: top;\n",
       "    }\n",
       "\n",
       "    .dataframe thead th {\n",
       "        text-align: right;\n",
       "    }\n",
       "</style>\n",
       "<table border=\"1\" class=\"dataframe\">\n",
       "  <thead>\n",
       "    <tr style=\"text-align: right;\">\n",
       "      <th></th>\n",
       "      <th>MFST</th>\n",
       "      <th>SPX</th>\n",
       "      <th>PORTFOLIO RETURN</th>\n",
       "    </tr>\n",
       "  </thead>\n",
       "  <tbody>\n",
       "    <tr>\n",
       "      <th>19226</th>\n",
       "      <td>-0.427125</td>\n",
       "      <td>-0.036888</td>\n",
       "      <td>-0.232006</td>\n",
       "    </tr>\n",
       "    <tr>\n",
       "      <th>23471</th>\n",
       "      <td>-0.420666</td>\n",
       "      <td>-0.039995</td>\n",
       "      <td>-0.230330</td>\n",
       "    </tr>\n",
       "    <tr>\n",
       "      <th>8766</th>\n",
       "      <td>-0.250154</td>\n",
       "      <td>-0.162249</td>\n",
       "      <td>-0.206201</td>\n",
       "    </tr>\n",
       "    <tr>\n",
       "      <th>23158</th>\n",
       "      <td>-0.349984</td>\n",
       "      <td>-0.037283</td>\n",
       "      <td>-0.193634</td>\n",
       "    </tr>\n",
       "    <tr>\n",
       "      <th>26978</th>\n",
       "      <td>-0.290897</td>\n",
       "      <td>-0.013623</td>\n",
       "      <td>-0.152260</td>\n",
       "    </tr>\n",
       "  </tbody>\n",
       "</table>\n",
       "</div>"
      ],
      "text/plain": [
       "           MFST       SPX  PORTFOLIO RETURN\n",
       "19226 -0.427125 -0.036888         -0.232006\n",
       "23471 -0.420666 -0.039995         -0.230330\n",
       "8766  -0.250154 -0.162249         -0.206201\n",
       "23158 -0.349984 -0.037283         -0.193634\n",
       "26978 -0.290897 -0.013623         -0.152260"
      ]
     },
     "execution_count": 38,
     "metadata": {},
     "output_type": "execute_result"
    }
   ],
   "source": [
    "## fit the student's-t copulae \n",
    "cop_studt = stats.t.ppf(copula_samples, 4)\n",
    "df_studt = pd.DataFrame(cop_studt)\n",
    "\n",
    "## the *= is a running cumsum \n",
    "df_studt.loc[:,0] *= stddev_mfst\n",
    "df_studt.loc[:,1] *= stddev_spx\n",
    "df_studt['PORTFOLIO RETURN'] = \"\"\n",
    "df_studt.columns = ['MFST','SPX','PORTFOLIO RETURN']\n",
    "\n",
    "## 0.5 == implies equal weighting \n",
    "df_studt['PORTFOLIO RETURN'] = 0.5*df_studt['MFST'] + 0.5*df_studt['SPX']\n",
    "\n",
    "## sort values by portfolio returns \n",
    "df_studt_sorted = df_studt.sort_values(by=['PORTFOLIO RETURN'])\n",
    "df_studt_sorted.head()"
   ]
  },
  {
   "cell_type": "code",
   "execution_count": 39,
   "metadata": {},
   "outputs": [
    {
     "name": "stdout",
     "output_type": "stream",
     "text": [
      "0.073852657911079 0.052408544268642956\n"
     ]
    }
   ],
   "source": [
    "zpt_2 = -np.quantile(df_studt_sorted['PORTFOLIO RETURN'],0.01)\n",
    "mean_studt = df_studt_sorted['PORTFOLIO RETURN'].mean()\n",
    "stddev_studt = df_studt_sorted['PORTFOLIO RETURN'].std()\n",
    "DOF = 4\n",
    "CV_studt = stats.t.ppf(0.99, DOF)\n",
    "VaR_studt_portfolio = mean_studt + stddev_studt*CV_studt\n",
    "print(VaR_studt_portfolio, zpt_2)"
   ]
  },
  {
   "cell_type": "markdown",
   "metadata": {},
   "source": [
    "# Discussion:"
   ]
  },
  {
   "cell_type": "code",
   "execution_count": 40,
   "metadata": {},
   "outputs": [
    {
     "name": "stdout",
     "output_type": "stream",
     "text": [
      "| DISTRIBUTION   |    1% VaR |\n",
      "|----------------+-----------|\n",
      "| Normal Dist    | 0.0327363 |\n",
      "| Students-T     | 0.0738527 |\n"
     ]
    }
   ],
   "source": [
    "print(tabulate([['Normal Dist',VaR_portfolio],['Students-T',VaR_studt_portfolio]],headers=['DISTRIBUTION','1% VaR'],tablefmt='orgtbl'))"
   ]
  },
  {
   "cell_type": "markdown",
   "metadata": {},
   "source": [
    "* We again first determine the 1-day 1% VaR using the Historical Simulation method. This gives us a value of ~0.0524, clearly a larger VaR than the one for the Normal distribution simulations. Then, to be able to determine a more precise estimate we also use the Risk Metrics method, but with average portfolio mean and standard deviation; this 2nd method gives us a value of 0.0526. Both of these VaR are larger than the ones implied by the Normal distribution simulations. This can be explained by the shape of the distributions: a Student's t distribution has a higher peak and has heavier tails than a normal distribution. This in turn means that very extreme negative returns are more likely in the student-t distribution, which causes the VaR to be higher. \n",
    "\n",
    "* Next we compared the separate VaR's with the portfolio VaR. For Microsoft we get a separate VaR estimate of 0.0742 and for S&P 500 0.0416. A crude calculation could imply this is an average VaR of 0.0579, which is a lot higher compared to their portfolio VaR of 0.0327. What this shows is that the portfolio diversification reduces risk through the synergy of combining the two assets. Extreme left-tail (low/negative) returns are less likely because the two assets have a correlation smaller than one, so that when one stock performs badly, the other might be able to compensate for this and thus it insulates the portfolio return from excessively negative drops. \n",
    "* Naturally, there is some degree of correlation- even implied explicility as MFST is a part of the SPX- thus there remains a significant part of VaR that is still exposed to common or system shocks that will erode the benefits of diversification. One small caveat is that common shocks (or a crisis, perse) tend to cause correlations to go up, meaning the benefits of diversification are diminished. Thus the true benefits of diversification in strenous circumstances cannot be truly accounted for the VaR as calculated above without some form of asymmetric correlation adjustment. "
   ]
  }
 ],
 "metadata": {
  "kernelspec": {
   "display_name": "Python 3",
   "language": "python",
   "name": "python3"
  },
  "language_info": {
   "codemirror_mode": {
    "name": "ipython",
    "version": 3
   },
   "file_extension": ".py",
   "mimetype": "text/x-python",
   "name": "python",
   "nbconvert_exporter": "python",
   "pygments_lexer": "ipython3",
   "version": "3.8.5"
  }
 },
 "nbformat": 4,
 "nbformat_minor": 4
}
